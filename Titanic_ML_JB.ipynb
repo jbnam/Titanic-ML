{
 "cells": [
  {
   "cell_type": "markdown",
   "id": "f6b431ff-bb54-42e2-9a62-f0531c614862",
   "metadata": {},
   "source": [
    "# Training and Predicting Survived for Titanic using ML\n",
    "\n",
    "- Theoretical Reference for Random Forest models: https://www.math.mcgill.ca/yyang/resources/doc/randomforest.pdf\n",
    "- Basic Titanic Tutorial: https://www.kaggle.com/code/alexisbcook/titanic-tutorial\n",
    "- User-manual of Pandas (a dataframe work): https://pandas.pydata.org/docs/user_guide/index.html#user-guide\n",
    "- User-manual of NumPy (relatively fast multidimensional matrix/array library with many scientific functions): https://numpy.org/doc/stable/user/index.html#user\n",
    "\n",
    "Scikit-learn for Random Forest\n",
    "- https://scikit-learn.org/stable/modules/ensemble.html#random-forests\n",
    "- Scikit-learn Algorithm Cheat-sheet: https://scikit-learn.org/stable/tutorial/machine_learning_map/index.html"
   ]
  },
  {
   "cell_type": "markdown",
   "id": "eb9cebe5-9719-4456-afec-034e276388c9",
   "metadata": {},
   "source": [
    "### Install scikit-learn package if not"
   ]
  },
  {
   "cell_type": "code",
   "execution_count": 1,
   "id": "7bb36c24-e251-446b-b2c3-c89f55ac9fb6",
   "metadata": {},
   "outputs": [],
   "source": [
    "#Uncomment the below if it has not been installed.\n",
    "#!pip install -U scikit-learn"
   ]
  },
  {
   "cell_type": "markdown",
   "id": "acfa16d5-52cb-43b0-ba1d-5ddae471ce71",
   "metadata": {},
   "source": [
    "## 1. Inintial processings"
   ]
  },
  {
   "cell_type": "code",
   "execution_count": 2,
   "id": "146cf065-c403-42f8-86d0-19631df998d1",
   "metadata": {},
   "outputs": [
    {
     "name": "stdout",
     "output_type": "stream",
     "text": [
      "titanic_data/gender_submission.csv\n",
      "titanic_data/test.csv\n",
      "titanic_data/train.csv\n",
      "titanic_data/test_preprocessed_JB.csv\n",
      "titanic_data/train_preprocessed_JB.csv\n",
      "titanic_data/train_preprocessed_dropped_JB.csv\n",
      "titanic_data/test_preprocessed_dropped_JB.csv\n",
      "titanic_data/.ipynb_checkpoints/train_preprocessed_JB-checkpoint.csv\n"
     ]
    }
   ],
   "source": [
    "import os #Some functions for the os related commands\n",
    "import math\n",
    "import numpy as np\n",
    "import pandas as pd\n",
    "\n",
    "import matplotlib.pyplot as plt #For plotting graphs\n",
    "import warnings\n",
    "\n",
    "warnings.filterwarnings('ignore')\n",
    "\n",
    "#Display the data file names\n",
    "for dirname, _, filenames in os.walk('titanic_data/'):\n",
    "    for filename in filenames:\n",
    "        print(os.path.join(dirname, filename))"
   ]
  },
  {
   "cell_type": "code",
   "execution_count": 3,
   "id": "00974dfe-3a1d-410a-ab5b-f777ee9b9c61",
   "metadata": {},
   "outputs": [],
   "source": [
    "train_data = pd.read_csv(\"titanic_data/train_preprocessed_dropped_JB.csv\")\n",
    "#display(train_data.head())\n",
    "\n",
    "test_data = pd.read_csv(\"titanic_data/test_preprocessed_dropped_JB.csv\")\n",
    "#display(test_data.head())"
   ]
  },
  {
   "cell_type": "code",
   "execution_count": 4,
   "id": "d1456408-7325-41d1-87ff-b3a28ee9a090",
   "metadata": {},
   "outputs": [
    {
     "name": "stdout",
     "output_type": "stream",
     "text": [
      "<class 'pandas.core.frame.DataFrame'>\n",
      "RangeIndex: 891 entries, 0 to 890\n",
      "Data columns (total 51 columns):\n",
      " #   Column                               Non-Null Count  Dtype  \n",
      "---  ------                               --------------  -----  \n",
      " 0   Survived                             891 non-null    int64  \n",
      " 1   Female                               891 non-null    int64  \n",
      " 2   Embarked_C                           891 non-null    int64  \n",
      " 3   Embarked_S                           891 non-null    int64  \n",
      " 4   Title_Miss                           891 non-null    int64  \n",
      " 5   Title_Mr                             891 non-null    int64  \n",
      " 6   Title_Mrs                            891 non-null    int64  \n",
      " 7   Family_Size_1                        891 non-null    int64  \n",
      " 8   Family_Size_2                        891 non-null    int64  \n",
      " 9   Ticket_Count_1                       891 non-null    int64  \n",
      " 10  Ticket_Count_3                       891 non-null    int64  \n",
      " 11  Cabin_Init_F                         891 non-null    int64  \n",
      " 12  Cabin_Init_G                         891 non-null    int64  \n",
      " 13  Family_Type_FT_1                     891 non-null    int64  \n",
      " 14  Family_Type_FT_2                     891 non-null    int64  \n",
      " 15  Fare_Per_Person_Bin_Fare_10.5        891 non-null    int64  \n",
      " 16  Fare_Per_Person_Bin_Fare_128.0823    891 non-null    int64  \n",
      " 17  Age_Bin_Pclass_Age_32_3              891 non-null    int64  \n",
      " 18  Age_Bin_Sex_Age_24_female            891 non-null    int64  \n",
      " 19  Age_Bin_Sex_Age_24_male              891 non-null    int64  \n",
      " 20  Age_Bin_Sex_Age_32_male              891 non-null    int64  \n",
      " 21  Age_Bin_Title_Age_24_Mr              891 non-null    int64  \n",
      " 22  Age_Bin_Title_Age_32_Mr              891 non-null    int64  \n",
      " 23  Age_Bin_Fare_Bin_Age_32_Fare_10.5    891 non-null    int64  \n",
      " 24  Fare_Bin_Pclass_Fare_10.5_3          891 non-null    int64  \n",
      " 25  Fare_Bin_Pclass_Fare_128.0823_1      891 non-null    int64  \n",
      " 26  Fare_Bin_Sex_Fare_10.5_female        891 non-null    int64  \n",
      " 27  Fare_Bin_Sex_Fare_10.5_male          891 non-null    int64  \n",
      " 28  Fare_Bin_Title_Fare_10.5_Mr          891 non-null    int64  \n",
      " 29  Fare_Bin_Family_Type_Fare_10.5_FT_1  891 non-null    int64  \n",
      " 30  Pclass_Sex_1_female                  891 non-null    int64  \n",
      " 31  Pclass_Sex_2_male                    891 non-null    int64  \n",
      " 32  Pclass_Sex_3_male                    891 non-null    int64  \n",
      " 33  Pclass_Title_3_Mr                    891 non-null    int64  \n",
      " 34  Family_Type_Parch_FT_1_0             891 non-null    int64  \n",
      " 35  Family_Type_Parch_FT_2_1             891 non-null    int64  \n",
      " 36  Family_Type_Cabin_Init_FT_1_F        891 non-null    int64  \n",
      " 37  Family_Type_Title_FT_1_Miss          891 non-null    int64  \n",
      " 38  Family_Type_Title_FT_1_Mr            891 non-null    int64  \n",
      " 39  Pclass                               891 non-null    int64  \n",
      " 40  Age                                  891 non-null    float64\n",
      " 41  SibSp                                891 non-null    int64  \n",
      " 42  Parch                                891 non-null    int64  \n",
      " 43  Fare_Per_Person                      891 non-null    float64\n",
      " 44  Num_Cabins                           891 non-null    int64  \n",
      " 45  Parch_to_SibSp                       891 non-null    float64\n",
      " 46  Age_Bin_Sex_Age_80_female            891 non-null    int64  \n",
      " 47  Age_Bin_Title_Age_80_Mrs             891 non-null    int64  \n",
      " 48  Fare_Bin_Family_Type_Fare_10.5_FT_4  891 non-null    int64  \n",
      " 49  Family_Type_Parch_FT_5_9             891 non-null    int64  \n",
      " 50  Family_Type_Title_FT_1_Master        891 non-null    int64  \n",
      "dtypes: float64(3), int64(48)\n",
      "memory usage: 355.1 KB\n"
     ]
    },
    {
     "data": {
      "text/plain": [
       "None"
      ]
     },
     "metadata": {},
     "output_type": "display_data"
    },
    {
     "name": "stdout",
     "output_type": "stream",
     "text": [
      "<class 'pandas.core.frame.DataFrame'>\n",
      "RangeIndex: 418 entries, 0 to 417\n",
      "Data columns (total 51 columns):\n",
      " #   Column                               Non-Null Count  Dtype  \n",
      "---  ------                               --------------  -----  \n",
      " 0   PassengerId                          418 non-null    int64  \n",
      " 1   Female                               418 non-null    int64  \n",
      " 2   Embarked_C                           418 non-null    int64  \n",
      " 3   Embarked_S                           418 non-null    int64  \n",
      " 4   Title_Miss                           418 non-null    int64  \n",
      " 5   Title_Mr                             418 non-null    int64  \n",
      " 6   Title_Mrs                            418 non-null    int64  \n",
      " 7   Family_Size_1                        418 non-null    int64  \n",
      " 8   Family_Size_2                        418 non-null    int64  \n",
      " 9   Ticket_Count_1                       418 non-null    int64  \n",
      " 10  Ticket_Count_3                       418 non-null    int64  \n",
      " 11  Cabin_Init_F                         418 non-null    int64  \n",
      " 12  Cabin_Init_G                         418 non-null    int64  \n",
      " 13  Family_Type_FT_1                     418 non-null    int64  \n",
      " 14  Family_Type_FT_2                     418 non-null    int64  \n",
      " 15  Fare_Per_Person_Bin_Fare_10.5        418 non-null    int64  \n",
      " 16  Fare_Per_Person_Bin_Fare_128.0823    418 non-null    int64  \n",
      " 17  Age_Bin_Pclass_Age_32_3              418 non-null    int64  \n",
      " 18  Age_Bin_Sex_Age_24_female            418 non-null    int64  \n",
      " 19  Age_Bin_Sex_Age_24_male              418 non-null    int64  \n",
      " 20  Age_Bin_Sex_Age_32_male              418 non-null    int64  \n",
      " 21  Age_Bin_Title_Age_24_Mr              418 non-null    int64  \n",
      " 22  Age_Bin_Title_Age_32_Mr              418 non-null    int64  \n",
      " 23  Age_Bin_Fare_Bin_Age_32_Fare_10.5    418 non-null    int64  \n",
      " 24  Fare_Bin_Pclass_Fare_10.5_3          418 non-null    int64  \n",
      " 25  Fare_Bin_Pclass_Fare_128.0823_1      418 non-null    int64  \n",
      " 26  Fare_Bin_Sex_Fare_10.5_female        418 non-null    int64  \n",
      " 27  Fare_Bin_Sex_Fare_10.5_male          418 non-null    int64  \n",
      " 28  Fare_Bin_Title_Fare_10.5_Mr          418 non-null    int64  \n",
      " 29  Fare_Bin_Family_Type_Fare_10.5_FT_1  418 non-null    int64  \n",
      " 30  Pclass_Sex_1_female                  418 non-null    int64  \n",
      " 31  Pclass_Sex_2_male                    418 non-null    int64  \n",
      " 32  Pclass_Sex_3_male                    418 non-null    int64  \n",
      " 33  Pclass_Title_3_Mr                    418 non-null    int64  \n",
      " 34  Family_Type_Parch_FT_1_0             418 non-null    int64  \n",
      " 35  Family_Type_Parch_FT_2_1             418 non-null    int64  \n",
      " 36  Family_Type_Cabin_Init_FT_1_F        418 non-null    int64  \n",
      " 37  Family_Type_Title_FT_1_Miss          418 non-null    int64  \n",
      " 38  Family_Type_Title_FT_1_Mr            418 non-null    int64  \n",
      " 39  Pclass                               418 non-null    int64  \n",
      " 40  Age                                  418 non-null    float64\n",
      " 41  SibSp                                418 non-null    int64  \n",
      " 42  Parch                                418 non-null    int64  \n",
      " 43  Fare_Per_Person                      418 non-null    float64\n",
      " 44  Num_Cabins                           418 non-null    int64  \n",
      " 45  Parch_to_SibSp                       418 non-null    float64\n",
      " 46  Age_Bin_Sex_Age_80_female            418 non-null    int64  \n",
      " 47  Age_Bin_Title_Age_80_Mrs             418 non-null    int64  \n",
      " 48  Fare_Bin_Family_Type_Fare_10.5_FT_4  418 non-null    int64  \n",
      " 49  Family_Type_Parch_FT_5_9             418 non-null    int64  \n",
      " 50  Family_Type_Title_FT_1_Master        418 non-null    int64  \n",
      "dtypes: float64(3), int64(48)\n",
      "memory usage: 166.7 KB\n"
     ]
    },
    {
     "data": {
      "text/plain": [
       "None"
      ]
     },
     "metadata": {},
     "output_type": "display_data"
    }
   ],
   "source": [
    "display(train_data.info())\n",
    "display(test_data.info())"
   ]
  },
  {
   "cell_type": "markdown",
   "id": "923e505d-0bb8-41fd-904f-24b3e6099775",
   "metadata": {},
   "source": [
    "Import some modules."
   ]
  },
  {
   "cell_type": "code",
   "execution_count": 5,
   "id": "a9e14202-a6a6-4407-94c2-933f25a8fffc",
   "metadata": {
    "tags": []
   },
   "outputs": [],
   "source": [
    "from sklearn.preprocessing import StandardScaler\n",
    "from sklearn.model_selection import train_test_split, cross_val_score, cross_validate, GridSearchCV, RandomizedSearchCV\n",
    "from sklearn.pipeline import make_pipeline\n",
    "from sklearn.metrics import accuracy_score, f1_score\n",
    "\n",
    "from sklearn.ensemble import RandomForestClassifier, ExtraTreesClassifier, AdaBoostClassifier, GradientBoostingClassifier, BaggingClassifier"
   ]
  },
  {
   "cell_type": "code",
   "execution_count": 6,
   "id": "093c84e9-a4c7-4d87-8524-6abd2c63e9da",
   "metadata": {},
   "outputs": [],
   "source": [
    "X_train_data = train_data.drop(columns=['Survived'])\n",
    "y_train_data = train_data.Survived"
   ]
  },
  {
   "cell_type": "code",
   "execution_count": 7,
   "id": "9c090ba6-bf8f-4710-8e34-206615920e60",
   "metadata": {},
   "outputs": [
    {
     "name": "stdout",
     "output_type": "stream",
     "text": [
      "712 data for training, 179 data for testing.\n"
     ]
    }
   ],
   "source": [
    "X_train, X_test, y_train, y_test = train_test_split(X_train_data, y_train_data,\\\n",
    "                                                    test_size=0.2, stratify=y_train_data, random_state=1)\n",
    "\n",
    "print(\"{} data for training, {} data for testing.\".format(X_train.index.size, X_test.index.size))"
   ]
  },
  {
   "cell_type": "markdown",
   "id": "6a3cef39-69aa-4598-a3a6-673716f23612",
   "metadata": {},
   "source": [
    "## 3. Build/Train/Validate the Random Forest and Gradient Boosting Classifier models"
   ]
  },
  {
   "cell_type": "code",
   "execution_count": 8,
   "id": "c56a4c38-37f5-4843-9383-c7c7162acdd0",
   "metadata": {
    "tags": []
   },
   "outputs": [
    {
     "data": {
      "text/html": [
       "<style>#sk-container-id-1 {color: black;background-color: white;}#sk-container-id-1 pre{padding: 0;}#sk-container-id-1 div.sk-toggleable {background-color: white;}#sk-container-id-1 label.sk-toggleable__label {cursor: pointer;display: block;width: 100%;margin-bottom: 0;padding: 0.3em;box-sizing: border-box;text-align: center;}#sk-container-id-1 label.sk-toggleable__label-arrow:before {content: \"▸\";float: left;margin-right: 0.25em;color: #696969;}#sk-container-id-1 label.sk-toggleable__label-arrow:hover:before {color: black;}#sk-container-id-1 div.sk-estimator:hover label.sk-toggleable__label-arrow:before {color: black;}#sk-container-id-1 div.sk-toggleable__content {max-height: 0;max-width: 0;overflow: hidden;text-align: left;background-color: #f0f8ff;}#sk-container-id-1 div.sk-toggleable__content pre {margin: 0.2em;color: black;border-radius: 0.25em;background-color: #f0f8ff;}#sk-container-id-1 input.sk-toggleable__control:checked~div.sk-toggleable__content {max-height: 200px;max-width: 100%;overflow: auto;}#sk-container-id-1 input.sk-toggleable__control:checked~label.sk-toggleable__label-arrow:before {content: \"▾\";}#sk-container-id-1 div.sk-estimator input.sk-toggleable__control:checked~label.sk-toggleable__label {background-color: #d4ebff;}#sk-container-id-1 div.sk-label input.sk-toggleable__control:checked~label.sk-toggleable__label {background-color: #d4ebff;}#sk-container-id-1 input.sk-hidden--visually {border: 0;clip: rect(1px 1px 1px 1px);clip: rect(1px, 1px, 1px, 1px);height: 1px;margin: -1px;overflow: hidden;padding: 0;position: absolute;width: 1px;}#sk-container-id-1 div.sk-estimator {font-family: monospace;background-color: #f0f8ff;border: 1px dotted black;border-radius: 0.25em;box-sizing: border-box;margin-bottom: 0.5em;}#sk-container-id-1 div.sk-estimator:hover {background-color: #d4ebff;}#sk-container-id-1 div.sk-parallel-item::after {content: \"\";width: 100%;border-bottom: 1px solid gray;flex-grow: 1;}#sk-container-id-1 div.sk-label:hover label.sk-toggleable__label {background-color: #d4ebff;}#sk-container-id-1 div.sk-serial::before {content: \"\";position: absolute;border-left: 1px solid gray;box-sizing: border-box;top: 0;bottom: 0;left: 50%;z-index: 0;}#sk-container-id-1 div.sk-serial {display: flex;flex-direction: column;align-items: center;background-color: white;padding-right: 0.2em;padding-left: 0.2em;position: relative;}#sk-container-id-1 div.sk-item {position: relative;z-index: 1;}#sk-container-id-1 div.sk-parallel {display: flex;align-items: stretch;justify-content: center;background-color: white;position: relative;}#sk-container-id-1 div.sk-item::before, #sk-container-id-1 div.sk-parallel-item::before {content: \"\";position: absolute;border-left: 1px solid gray;box-sizing: border-box;top: 0;bottom: 0;left: 50%;z-index: -1;}#sk-container-id-1 div.sk-parallel-item {display: flex;flex-direction: column;z-index: 1;position: relative;background-color: white;}#sk-container-id-1 div.sk-parallel-item:first-child::after {align-self: flex-end;width: 50%;}#sk-container-id-1 div.sk-parallel-item:last-child::after {align-self: flex-start;width: 50%;}#sk-container-id-1 div.sk-parallel-item:only-child::after {width: 0;}#sk-container-id-1 div.sk-dashed-wrapped {border: 1px dashed gray;margin: 0 0.4em 0.5em 0.4em;box-sizing: border-box;padding-bottom: 0.4em;background-color: white;}#sk-container-id-1 div.sk-label label {font-family: monospace;font-weight: bold;display: inline-block;line-height: 1.2em;}#sk-container-id-1 div.sk-label-container {text-align: center;}#sk-container-id-1 div.sk-container {/* jupyter's `normalize.less` sets `[hidden] { display: none; }` but bootstrap.min.css set `[hidden] { display: none !important; }` so we also need the `!important` here to be able to override the default hidden behavior on the sphinx rendered scikit-learn.org. See: https://github.com/scikit-learn/scikit-learn/issues/21755 */display: inline-block !important;position: relative;}#sk-container-id-1 div.sk-text-repr-fallback {display: none;}</style><div id=\"sk-container-id-1\" class=\"sk-top-container\"><div class=\"sk-text-repr-fallback\"><pre>Pipeline(steps=[(&#x27;randomforestclassifier&#x27;,\n",
       "                 RandomForestClassifier(criterion=&#x27;entropy&#x27;,\n",
       "                                        min_samples_leaf=10))])</pre><b>In a Jupyter environment, please rerun this cell to show the HTML representation or trust the notebook. <br />On GitHub, the HTML representation is unable to render, please try loading this page with nbviewer.org.</b></div><div class=\"sk-container\" hidden><div class=\"sk-item sk-dashed-wrapped\"><div class=\"sk-label-container\"><div class=\"sk-label sk-toggleable\"><input class=\"sk-toggleable__control sk-hidden--visually\" id=\"sk-estimator-id-1\" type=\"checkbox\" ><label for=\"sk-estimator-id-1\" class=\"sk-toggleable__label sk-toggleable__label-arrow\">Pipeline</label><div class=\"sk-toggleable__content\"><pre>Pipeline(steps=[(&#x27;randomforestclassifier&#x27;,\n",
       "                 RandomForestClassifier(criterion=&#x27;entropy&#x27;,\n",
       "                                        min_samples_leaf=10))])</pre></div></div></div><div class=\"sk-serial\"><div class=\"sk-item\"><div class=\"sk-estimator sk-toggleable\"><input class=\"sk-toggleable__control sk-hidden--visually\" id=\"sk-estimator-id-2\" type=\"checkbox\" ><label for=\"sk-estimator-id-2\" class=\"sk-toggleable__label sk-toggleable__label-arrow\">RandomForestClassifier</label><div class=\"sk-toggleable__content\"><pre>RandomForestClassifier(criterion=&#x27;entropy&#x27;, min_samples_leaf=10)</pre></div></div></div></div></div></div></div>"
      ],
      "text/plain": [
       "Pipeline(steps=[('randomforestclassifier',\n",
       "                 RandomForestClassifier(criterion='entropy',\n",
       "                                        min_samples_leaf=10))])"
      ]
     },
     "execution_count": 8,
     "metadata": {},
     "output_type": "execute_result"
    }
   ],
   "source": [
    "model = make_pipeline(RandomForestClassifier(n_estimators=100, \\\n",
    "                                             criterion='entropy', \\\n",
    "                                             min_samples_leaf=10, \\\n",
    "                                             min_samples_split=2, \\\n",
    "                                             max_depth=None, \\\n",
    "                                             bootstrap=True))\n",
    "model"
   ]
  },
  {
   "cell_type": "code",
   "execution_count": 9,
   "id": "6afc5c5d-2da7-434c-84ec-2621fea839a9",
   "metadata": {},
   "outputs": [
    {
     "name": "stdout",
     "output_type": "stream",
     "text": [
      "Average fit time: 0.1412504196166992 +/- 0.007485554783281939\n",
      "Average score time: 0.011094379425048827 +/- 0.00039126359812314935\n",
      "Average test score: 0.8159249262444291 +/- 0.015779909438245712\n"
     ]
    }
   ],
   "source": [
    "cross_val = cross_validate(\n",
    "    estimator=model,\n",
    "    X = X_train_data, y = y_train_data,\n",
    "    cv=5\n",
    ")\n",
    "\n",
    "print('Average fit time: {} +/- {}'.format(cross_val['fit_time'].mean(), cross_val['fit_time'].std()))\n",
    "print('Average score time: {} +/- {}'.format(cross_val['score_time'].mean(), cross_val['score_time'].std()))\n",
    "print('Average test score: {} +/- {}'.format(cross_val['test_score'].mean(), cross_val['test_score'].std()))"
   ]
  },
  {
   "cell_type": "code",
   "execution_count": 10,
   "id": "a0167190-b806-44e2-864f-2d84375190c9",
   "metadata": {
    "tags": []
   },
   "outputs": [
    {
     "data": {
      "text/html": [
       "<style>#sk-container-id-2 {color: black;background-color: white;}#sk-container-id-2 pre{padding: 0;}#sk-container-id-2 div.sk-toggleable {background-color: white;}#sk-container-id-2 label.sk-toggleable__label {cursor: pointer;display: block;width: 100%;margin-bottom: 0;padding: 0.3em;box-sizing: border-box;text-align: center;}#sk-container-id-2 label.sk-toggleable__label-arrow:before {content: \"▸\";float: left;margin-right: 0.25em;color: #696969;}#sk-container-id-2 label.sk-toggleable__label-arrow:hover:before {color: black;}#sk-container-id-2 div.sk-estimator:hover label.sk-toggleable__label-arrow:before {color: black;}#sk-container-id-2 div.sk-toggleable__content {max-height: 0;max-width: 0;overflow: hidden;text-align: left;background-color: #f0f8ff;}#sk-container-id-2 div.sk-toggleable__content pre {margin: 0.2em;color: black;border-radius: 0.25em;background-color: #f0f8ff;}#sk-container-id-2 input.sk-toggleable__control:checked~div.sk-toggleable__content {max-height: 200px;max-width: 100%;overflow: auto;}#sk-container-id-2 input.sk-toggleable__control:checked~label.sk-toggleable__label-arrow:before {content: \"▾\";}#sk-container-id-2 div.sk-estimator input.sk-toggleable__control:checked~label.sk-toggleable__label {background-color: #d4ebff;}#sk-container-id-2 div.sk-label input.sk-toggleable__control:checked~label.sk-toggleable__label {background-color: #d4ebff;}#sk-container-id-2 input.sk-hidden--visually {border: 0;clip: rect(1px 1px 1px 1px);clip: rect(1px, 1px, 1px, 1px);height: 1px;margin: -1px;overflow: hidden;padding: 0;position: absolute;width: 1px;}#sk-container-id-2 div.sk-estimator {font-family: monospace;background-color: #f0f8ff;border: 1px dotted black;border-radius: 0.25em;box-sizing: border-box;margin-bottom: 0.5em;}#sk-container-id-2 div.sk-estimator:hover {background-color: #d4ebff;}#sk-container-id-2 div.sk-parallel-item::after {content: \"\";width: 100%;border-bottom: 1px solid gray;flex-grow: 1;}#sk-container-id-2 div.sk-label:hover label.sk-toggleable__label {background-color: #d4ebff;}#sk-container-id-2 div.sk-serial::before {content: \"\";position: absolute;border-left: 1px solid gray;box-sizing: border-box;top: 0;bottom: 0;left: 50%;z-index: 0;}#sk-container-id-2 div.sk-serial {display: flex;flex-direction: column;align-items: center;background-color: white;padding-right: 0.2em;padding-left: 0.2em;position: relative;}#sk-container-id-2 div.sk-item {position: relative;z-index: 1;}#sk-container-id-2 div.sk-parallel {display: flex;align-items: stretch;justify-content: center;background-color: white;position: relative;}#sk-container-id-2 div.sk-item::before, #sk-container-id-2 div.sk-parallel-item::before {content: \"\";position: absolute;border-left: 1px solid gray;box-sizing: border-box;top: 0;bottom: 0;left: 50%;z-index: -1;}#sk-container-id-2 div.sk-parallel-item {display: flex;flex-direction: column;z-index: 1;position: relative;background-color: white;}#sk-container-id-2 div.sk-parallel-item:first-child::after {align-self: flex-end;width: 50%;}#sk-container-id-2 div.sk-parallel-item:last-child::after {align-self: flex-start;width: 50%;}#sk-container-id-2 div.sk-parallel-item:only-child::after {width: 0;}#sk-container-id-2 div.sk-dashed-wrapped {border: 1px dashed gray;margin: 0 0.4em 0.5em 0.4em;box-sizing: border-box;padding-bottom: 0.4em;background-color: white;}#sk-container-id-2 div.sk-label label {font-family: monospace;font-weight: bold;display: inline-block;line-height: 1.2em;}#sk-container-id-2 div.sk-label-container {text-align: center;}#sk-container-id-2 div.sk-container {/* jupyter's `normalize.less` sets `[hidden] { display: none; }` but bootstrap.min.css set `[hidden] { display: none !important; }` so we also need the `!important` here to be able to override the default hidden behavior on the sphinx rendered scikit-learn.org. See: https://github.com/scikit-learn/scikit-learn/issues/21755 */display: inline-block !important;position: relative;}#sk-container-id-2 div.sk-text-repr-fallback {display: none;}</style><div id=\"sk-container-id-2\" class=\"sk-top-container\"><div class=\"sk-text-repr-fallback\"><pre>Pipeline(steps=[(&#x27;gradientboostingclassifier&#x27;,\n",
       "                 GradientBoostingClassifier(loss=&#x27;exponential&#x27;,\n",
       "                                            max_depth=None))])</pre><b>In a Jupyter environment, please rerun this cell to show the HTML representation or trust the notebook. <br />On GitHub, the HTML representation is unable to render, please try loading this page with nbviewer.org.</b></div><div class=\"sk-container\" hidden><div class=\"sk-item sk-dashed-wrapped\"><div class=\"sk-label-container\"><div class=\"sk-label sk-toggleable\"><input class=\"sk-toggleable__control sk-hidden--visually\" id=\"sk-estimator-id-3\" type=\"checkbox\" ><label for=\"sk-estimator-id-3\" class=\"sk-toggleable__label sk-toggleable__label-arrow\">Pipeline</label><div class=\"sk-toggleable__content\"><pre>Pipeline(steps=[(&#x27;gradientboostingclassifier&#x27;,\n",
       "                 GradientBoostingClassifier(loss=&#x27;exponential&#x27;,\n",
       "                                            max_depth=None))])</pre></div></div></div><div class=\"sk-serial\"><div class=\"sk-item\"><div class=\"sk-estimator sk-toggleable\"><input class=\"sk-toggleable__control sk-hidden--visually\" id=\"sk-estimator-id-4\" type=\"checkbox\" ><label for=\"sk-estimator-id-4\" class=\"sk-toggleable__label sk-toggleable__label-arrow\">GradientBoostingClassifier</label><div class=\"sk-toggleable__content\"><pre>GradientBoostingClassifier(loss=&#x27;exponential&#x27;, max_depth=None)</pre></div></div></div></div></div></div></div>"
      ],
      "text/plain": [
       "Pipeline(steps=[('gradientboostingclassifier',\n",
       "                 GradientBoostingClassifier(loss='exponential',\n",
       "                                            max_depth=None))])"
      ]
     },
     "execution_count": 10,
     "metadata": {},
     "output_type": "execute_result"
    }
   ],
   "source": [
    "from sklearn.ensemble import GradientBoostingClassifier\n",
    "\n",
    "model = make_pipeline(GradientBoostingClassifier(n_estimators=100,\\\n",
    "                                                 loss='exponential',\\\n",
    "                                                 learning_rate=0.1,\\\n",
    "                                                 criterion='friedman_mse',\\\n",
    "                                                 max_depth=None))\n",
    "model"
   ]
  },
  {
   "cell_type": "code",
   "execution_count": 11,
   "id": "c810936d-8acc-43b1-9eb7-de0c62307d43",
   "metadata": {
    "tags": []
   },
   "outputs": [
    {
     "name": "stdout",
     "output_type": "stream",
     "text": [
      "Average fit time: 0.7137939929962158 +/- 0.029440823320976087\n",
      "Average score time: 0.0030662059783935548 +/- 0.0002671423568449204\n",
      "Average test score: 0.7643650743832778 +/- 0.03226660831185406\n"
     ]
    }
   ],
   "source": [
    "cross_val = cross_validate(\n",
    "    estimator=model,\n",
    "    X = X_train_data, y = y_train_data,\n",
    "    cv=5\n",
    ")\n",
    "\n",
    "print('Average fit time: {} +/- {}'.format(cross_val['fit_time'].mean(), cross_val['fit_time'].std()))\n",
    "print('Average score time: {} +/- {}'.format(cross_val['score_time'].mean(), cross_val['score_time'].std()))\n",
    "print('Average test score: {} +/- {}'.format(cross_val['test_score'].mean(), cross_val['test_score'].std()))"
   ]
  },
  {
   "cell_type": "code",
   "execution_count": 12,
   "id": "8fee0546-01fe-4133-a664-2fbfcf777be3",
   "metadata": {
    "tags": []
   },
   "outputs": [
    {
     "data": {
      "text/html": [
       "<style>#sk-container-id-3 {color: black;background-color: white;}#sk-container-id-3 pre{padding: 0;}#sk-container-id-3 div.sk-toggleable {background-color: white;}#sk-container-id-3 label.sk-toggleable__label {cursor: pointer;display: block;width: 100%;margin-bottom: 0;padding: 0.3em;box-sizing: border-box;text-align: center;}#sk-container-id-3 label.sk-toggleable__label-arrow:before {content: \"▸\";float: left;margin-right: 0.25em;color: #696969;}#sk-container-id-3 label.sk-toggleable__label-arrow:hover:before {color: black;}#sk-container-id-3 div.sk-estimator:hover label.sk-toggleable__label-arrow:before {color: black;}#sk-container-id-3 div.sk-toggleable__content {max-height: 0;max-width: 0;overflow: hidden;text-align: left;background-color: #f0f8ff;}#sk-container-id-3 div.sk-toggleable__content pre {margin: 0.2em;color: black;border-radius: 0.25em;background-color: #f0f8ff;}#sk-container-id-3 input.sk-toggleable__control:checked~div.sk-toggleable__content {max-height: 200px;max-width: 100%;overflow: auto;}#sk-container-id-3 input.sk-toggleable__control:checked~label.sk-toggleable__label-arrow:before {content: \"▾\";}#sk-container-id-3 div.sk-estimator input.sk-toggleable__control:checked~label.sk-toggleable__label {background-color: #d4ebff;}#sk-container-id-3 div.sk-label input.sk-toggleable__control:checked~label.sk-toggleable__label {background-color: #d4ebff;}#sk-container-id-3 input.sk-hidden--visually {border: 0;clip: rect(1px 1px 1px 1px);clip: rect(1px, 1px, 1px, 1px);height: 1px;margin: -1px;overflow: hidden;padding: 0;position: absolute;width: 1px;}#sk-container-id-3 div.sk-estimator {font-family: monospace;background-color: #f0f8ff;border: 1px dotted black;border-radius: 0.25em;box-sizing: border-box;margin-bottom: 0.5em;}#sk-container-id-3 div.sk-estimator:hover {background-color: #d4ebff;}#sk-container-id-3 div.sk-parallel-item::after {content: \"\";width: 100%;border-bottom: 1px solid gray;flex-grow: 1;}#sk-container-id-3 div.sk-label:hover label.sk-toggleable__label {background-color: #d4ebff;}#sk-container-id-3 div.sk-serial::before {content: \"\";position: absolute;border-left: 1px solid gray;box-sizing: border-box;top: 0;bottom: 0;left: 50%;z-index: 0;}#sk-container-id-3 div.sk-serial {display: flex;flex-direction: column;align-items: center;background-color: white;padding-right: 0.2em;padding-left: 0.2em;position: relative;}#sk-container-id-3 div.sk-item {position: relative;z-index: 1;}#sk-container-id-3 div.sk-parallel {display: flex;align-items: stretch;justify-content: center;background-color: white;position: relative;}#sk-container-id-3 div.sk-item::before, #sk-container-id-3 div.sk-parallel-item::before {content: \"\";position: absolute;border-left: 1px solid gray;box-sizing: border-box;top: 0;bottom: 0;left: 50%;z-index: -1;}#sk-container-id-3 div.sk-parallel-item {display: flex;flex-direction: column;z-index: 1;position: relative;background-color: white;}#sk-container-id-3 div.sk-parallel-item:first-child::after {align-self: flex-end;width: 50%;}#sk-container-id-3 div.sk-parallel-item:last-child::after {align-self: flex-start;width: 50%;}#sk-container-id-3 div.sk-parallel-item:only-child::after {width: 0;}#sk-container-id-3 div.sk-dashed-wrapped {border: 1px dashed gray;margin: 0 0.4em 0.5em 0.4em;box-sizing: border-box;padding-bottom: 0.4em;background-color: white;}#sk-container-id-3 div.sk-label label {font-family: monospace;font-weight: bold;display: inline-block;line-height: 1.2em;}#sk-container-id-3 div.sk-label-container {text-align: center;}#sk-container-id-3 div.sk-container {/* jupyter's `normalize.less` sets `[hidden] { display: none; }` but bootstrap.min.css set `[hidden] { display: none !important; }` so we also need the `!important` here to be able to override the default hidden behavior on the sphinx rendered scikit-learn.org. See: https://github.com/scikit-learn/scikit-learn/issues/21755 */display: inline-block !important;position: relative;}#sk-container-id-3 div.sk-text-repr-fallback {display: none;}</style><div id=\"sk-container-id-3\" class=\"sk-top-container\"><div class=\"sk-text-repr-fallback\"><pre>Pipeline(steps=[(&#x27;standardscaler&#x27;, StandardScaler()),\n",
       "                (&#x27;mlpclassifier&#x27;,\n",
       "                 MLPClassifier(activation=&#x27;logistic&#x27;, learning_rate=&#x27;adaptive&#x27;,\n",
       "                               max_iter=1000, solver=&#x27;lbfgs&#x27;))])</pre><b>In a Jupyter environment, please rerun this cell to show the HTML representation or trust the notebook. <br />On GitHub, the HTML representation is unable to render, please try loading this page with nbviewer.org.</b></div><div class=\"sk-container\" hidden><div class=\"sk-item sk-dashed-wrapped\"><div class=\"sk-label-container\"><div class=\"sk-label sk-toggleable\"><input class=\"sk-toggleable__control sk-hidden--visually\" id=\"sk-estimator-id-5\" type=\"checkbox\" ><label for=\"sk-estimator-id-5\" class=\"sk-toggleable__label sk-toggleable__label-arrow\">Pipeline</label><div class=\"sk-toggleable__content\"><pre>Pipeline(steps=[(&#x27;standardscaler&#x27;, StandardScaler()),\n",
       "                (&#x27;mlpclassifier&#x27;,\n",
       "                 MLPClassifier(activation=&#x27;logistic&#x27;, learning_rate=&#x27;adaptive&#x27;,\n",
       "                               max_iter=1000, solver=&#x27;lbfgs&#x27;))])</pre></div></div></div><div class=\"sk-serial\"><div class=\"sk-item\"><div class=\"sk-estimator sk-toggleable\"><input class=\"sk-toggleable__control sk-hidden--visually\" id=\"sk-estimator-id-6\" type=\"checkbox\" ><label for=\"sk-estimator-id-6\" class=\"sk-toggleable__label sk-toggleable__label-arrow\">StandardScaler</label><div class=\"sk-toggleable__content\"><pre>StandardScaler()</pre></div></div></div><div class=\"sk-item\"><div class=\"sk-estimator sk-toggleable\"><input class=\"sk-toggleable__control sk-hidden--visually\" id=\"sk-estimator-id-7\" type=\"checkbox\" ><label for=\"sk-estimator-id-7\" class=\"sk-toggleable__label sk-toggleable__label-arrow\">MLPClassifier</label><div class=\"sk-toggleable__content\"><pre>MLPClassifier(activation=&#x27;logistic&#x27;, learning_rate=&#x27;adaptive&#x27;, max_iter=1000,\n",
       "              solver=&#x27;lbfgs&#x27;)</pre></div></div></div></div></div></div></div>"
      ],
      "text/plain": [
       "Pipeline(steps=[('standardscaler', StandardScaler()),\n",
       "                ('mlpclassifier',\n",
       "                 MLPClassifier(activation='logistic', learning_rate='adaptive',\n",
       "                               max_iter=1000, solver='lbfgs'))])"
      ]
     },
     "execution_count": 12,
     "metadata": {},
     "output_type": "execute_result"
    }
   ],
   "source": [
    "from sklearn.neural_network import MLPClassifier\n",
    "\n",
    "model = make_pipeline(StandardScaler(), MLPClassifier(hidden_layer_sizes=(100,),\\\n",
    "                                    max_iter=1000,\\\n",
    "                                    activation='logistic',\\\n",
    "                                    solver='lbfgs',\\\n",
    "                                    alpha=0.0001,\\\n",
    "                                    batch_size='auto',\\\n",
    "                                    learning_rate='adaptive',\\\n",
    "                                    learning_rate_init = 0.001))\n",
    "model"
   ]
  },
  {
   "cell_type": "code",
   "execution_count": 13,
   "id": "e1522183-5fb3-4d24-a2c2-b8ec6e6e5b76",
   "metadata": {
    "tags": []
   },
   "outputs": [
    {
     "data": {
      "text/plain": [
       "\"\\ncross_val = cross_validate(\\n    estimator=model,\\n    X = X_train_data, y = y_train_data,\\n    cv=5\\n)\\n\\nprint('Average fit time: {} +/- {}'.format(cross_val['fit_time'].mean(), cross_val['fit_time'].std()))\\nprint('Average score time: {} +/- {}'.format(cross_val['score_time'].mean(), cross_val['score_time'].std()))\\nprint('Average test score: {} +/- {}'.format(cross_val['test_score'].mean(), cross_val['test_score'].std()))\\n\""
      ]
     },
     "execution_count": 13,
     "metadata": {},
     "output_type": "execute_result"
    }
   ],
   "source": [
    "'''\n",
    "cross_val = cross_validate(\n",
    "    estimator=model,\n",
    "    X = X_train_data, y = y_train_data,\n",
    "    cv=5\n",
    ")\n",
    "\n",
    "print('Average fit time: {} +/- {}'.format(cross_val['fit_time'].mean(), cross_val['fit_time'].std()))\n",
    "print('Average score time: {} +/- {}'.format(cross_val['score_time'].mean(), cross_val['score_time'].std()))\n",
    "print('Average test score: {} +/- {}'.format(cross_val['test_score'].mean(), cross_val['test_score'].std()))\n",
    "'''"
   ]
  },
  {
   "cell_type": "code",
   "execution_count": 14,
   "id": "150fb466-9094-4919-82b1-cf5716c20e41",
   "metadata": {
    "tags": []
   },
   "outputs": [
    {
     "data": {
      "text/html": [
       "<style>#sk-container-id-4 {color: black;background-color: white;}#sk-container-id-4 pre{padding: 0;}#sk-container-id-4 div.sk-toggleable {background-color: white;}#sk-container-id-4 label.sk-toggleable__label {cursor: pointer;display: block;width: 100%;margin-bottom: 0;padding: 0.3em;box-sizing: border-box;text-align: center;}#sk-container-id-4 label.sk-toggleable__label-arrow:before {content: \"▸\";float: left;margin-right: 0.25em;color: #696969;}#sk-container-id-4 label.sk-toggleable__label-arrow:hover:before {color: black;}#sk-container-id-4 div.sk-estimator:hover label.sk-toggleable__label-arrow:before {color: black;}#sk-container-id-4 div.sk-toggleable__content {max-height: 0;max-width: 0;overflow: hidden;text-align: left;background-color: #f0f8ff;}#sk-container-id-4 div.sk-toggleable__content pre {margin: 0.2em;color: black;border-radius: 0.25em;background-color: #f0f8ff;}#sk-container-id-4 input.sk-toggleable__control:checked~div.sk-toggleable__content {max-height: 200px;max-width: 100%;overflow: auto;}#sk-container-id-4 input.sk-toggleable__control:checked~label.sk-toggleable__label-arrow:before {content: \"▾\";}#sk-container-id-4 div.sk-estimator input.sk-toggleable__control:checked~label.sk-toggleable__label {background-color: #d4ebff;}#sk-container-id-4 div.sk-label input.sk-toggleable__control:checked~label.sk-toggleable__label {background-color: #d4ebff;}#sk-container-id-4 input.sk-hidden--visually {border: 0;clip: rect(1px 1px 1px 1px);clip: rect(1px, 1px, 1px, 1px);height: 1px;margin: -1px;overflow: hidden;padding: 0;position: absolute;width: 1px;}#sk-container-id-4 div.sk-estimator {font-family: monospace;background-color: #f0f8ff;border: 1px dotted black;border-radius: 0.25em;box-sizing: border-box;margin-bottom: 0.5em;}#sk-container-id-4 div.sk-estimator:hover {background-color: #d4ebff;}#sk-container-id-4 div.sk-parallel-item::after {content: \"\";width: 100%;border-bottom: 1px solid gray;flex-grow: 1;}#sk-container-id-4 div.sk-label:hover label.sk-toggleable__label {background-color: #d4ebff;}#sk-container-id-4 div.sk-serial::before {content: \"\";position: absolute;border-left: 1px solid gray;box-sizing: border-box;top: 0;bottom: 0;left: 50%;z-index: 0;}#sk-container-id-4 div.sk-serial {display: flex;flex-direction: column;align-items: center;background-color: white;padding-right: 0.2em;padding-left: 0.2em;position: relative;}#sk-container-id-4 div.sk-item {position: relative;z-index: 1;}#sk-container-id-4 div.sk-parallel {display: flex;align-items: stretch;justify-content: center;background-color: white;position: relative;}#sk-container-id-4 div.sk-item::before, #sk-container-id-4 div.sk-parallel-item::before {content: \"\";position: absolute;border-left: 1px solid gray;box-sizing: border-box;top: 0;bottom: 0;left: 50%;z-index: -1;}#sk-container-id-4 div.sk-parallel-item {display: flex;flex-direction: column;z-index: 1;position: relative;background-color: white;}#sk-container-id-4 div.sk-parallel-item:first-child::after {align-self: flex-end;width: 50%;}#sk-container-id-4 div.sk-parallel-item:last-child::after {align-self: flex-start;width: 50%;}#sk-container-id-4 div.sk-parallel-item:only-child::after {width: 0;}#sk-container-id-4 div.sk-dashed-wrapped {border: 1px dashed gray;margin: 0 0.4em 0.5em 0.4em;box-sizing: border-box;padding-bottom: 0.4em;background-color: white;}#sk-container-id-4 div.sk-label label {font-family: monospace;font-weight: bold;display: inline-block;line-height: 1.2em;}#sk-container-id-4 div.sk-label-container {text-align: center;}#sk-container-id-4 div.sk-container {/* jupyter's `normalize.less` sets `[hidden] { display: none; }` but bootstrap.min.css set `[hidden] { display: none !important; }` so we also need the `!important` here to be able to override the default hidden behavior on the sphinx rendered scikit-learn.org. See: https://github.com/scikit-learn/scikit-learn/issues/21755 */display: inline-block !important;position: relative;}#sk-container-id-4 div.sk-text-repr-fallback {display: none;}</style><div id=\"sk-container-id-4\" class=\"sk-top-container\"><div class=\"sk-text-repr-fallback\"><pre>Pipeline(steps=[(&#x27;standardscaler&#x27;, StandardScaler()),\n",
       "                (&#x27;svc&#x27;, SVC(kernel=&#x27;sigmoid&#x27;, random_state=1))])</pre><b>In a Jupyter environment, please rerun this cell to show the HTML representation or trust the notebook. <br />On GitHub, the HTML representation is unable to render, please try loading this page with nbviewer.org.</b></div><div class=\"sk-container\" hidden><div class=\"sk-item sk-dashed-wrapped\"><div class=\"sk-label-container\"><div class=\"sk-label sk-toggleable\"><input class=\"sk-toggleable__control sk-hidden--visually\" id=\"sk-estimator-id-8\" type=\"checkbox\" ><label for=\"sk-estimator-id-8\" class=\"sk-toggleable__label sk-toggleable__label-arrow\">Pipeline</label><div class=\"sk-toggleable__content\"><pre>Pipeline(steps=[(&#x27;standardscaler&#x27;, StandardScaler()),\n",
       "                (&#x27;svc&#x27;, SVC(kernel=&#x27;sigmoid&#x27;, random_state=1))])</pre></div></div></div><div class=\"sk-serial\"><div class=\"sk-item\"><div class=\"sk-estimator sk-toggleable\"><input class=\"sk-toggleable__control sk-hidden--visually\" id=\"sk-estimator-id-9\" type=\"checkbox\" ><label for=\"sk-estimator-id-9\" class=\"sk-toggleable__label sk-toggleable__label-arrow\">StandardScaler</label><div class=\"sk-toggleable__content\"><pre>StandardScaler()</pre></div></div></div><div class=\"sk-item\"><div class=\"sk-estimator sk-toggleable\"><input class=\"sk-toggleable__control sk-hidden--visually\" id=\"sk-estimator-id-10\" type=\"checkbox\" ><label for=\"sk-estimator-id-10\" class=\"sk-toggleable__label sk-toggleable__label-arrow\">SVC</label><div class=\"sk-toggleable__content\"><pre>SVC(kernel=&#x27;sigmoid&#x27;, random_state=1)</pre></div></div></div></div></div></div></div>"
      ],
      "text/plain": [
       "Pipeline(steps=[('standardscaler', StandardScaler()),\n",
       "                ('svc', SVC(kernel='sigmoid', random_state=1))])"
      ]
     },
     "execution_count": 14,
     "metadata": {},
     "output_type": "execute_result"
    }
   ],
   "source": [
    "from sklearn.svm import SVC\n",
    "\n",
    "model = make_pipeline(StandardScaler(), SVC(C=1.0,\\\n",
    "                                    kernel='sigmoid',\\\n",
    "                                    degree=3,\\\n",
    "                                    gamma='scale',\\\n",
    "                                    coef0=0.0,\\\n",
    "                                    probability=False,\\\n",
    "                                    random_state=1))\n",
    "model"
   ]
  },
  {
   "cell_type": "code",
   "execution_count": 15,
   "id": "b00ef7fc-fbf3-4615-9a7c-78b5444498db",
   "metadata": {
    "tags": []
   },
   "outputs": [
    {
     "name": "stdout",
     "output_type": "stream",
     "text": [
      "Average fit time: 0.0275726318359375 +/- 0.00489903467044459\n",
      "Average score time: 0.006445741653442383 +/- 0.0006981062365983136\n",
      "Average test score: 0.7766493001067102 +/- 0.015727644170534343\n"
     ]
    }
   ],
   "source": [
    "cross_val = cross_validate(\n",
    "    estimator=model,\n",
    "    X = X_train_data, y = y_train_data,\n",
    "    cv=5\n",
    ")\n",
    "\n",
    "print('Average fit time: {} +/- {}'.format(cross_val['fit_time'].mean(), cross_val['fit_time'].std()))\n",
    "print('Average score time: {} +/- {}'.format(cross_val['score_time'].mean(), cross_val['score_time'].std()))\n",
    "print('Average test score: {} +/- {}'.format(cross_val['test_score'].mean(), cross_val['test_score'].std()))"
   ]
  },
  {
   "cell_type": "markdown",
   "id": "5b1859ef-dd6d-4674-81ec-bf4a2d544d9d",
   "metadata": {},
   "source": [
    "A random Forest model seems to perfom best.  "
   ]
  },
  {
   "cell_type": "markdown",
   "id": "6a9b8320-ba3a-4156-9190-0efccd79c5b7",
   "metadata": {},
   "source": [
    "## 4. Analyse the validations and predictions"
   ]
  },
  {
   "cell_type": "markdown",
   "id": "f65f2f7e-8ae9-42ee-a4fc-773d437a242f",
   "metadata": {},
   "source": [
    "We want to tune-up the hyperparameters as below."
   ]
  },
  {
   "cell_type": "code",
   "execution_count": 16,
   "id": "9efaabb1-53e2-4609-88ae-abeacbd2b5f0",
   "metadata": {
    "tags": []
   },
   "outputs": [
    {
     "name": "stdout",
     "output_type": "stream",
     "text": [
      "712 data for training, 179 data for testing.\n"
     ]
    }
   ],
   "source": [
    "X_train, X_test, y_train, y_test = train_test_split(X_train_data, y_train_data,\\\n",
    "                                                    test_size=0.2, stratify=y_train_data, random_state=1)\n",
    "\n",
    "print(\"{} data for training, {} data for testing.\".format(X_train.index.size, X_test.index.size))"
   ]
  },
  {
   "cell_type": "markdown",
   "id": "9d9799f7-6461-49d5-b945-b5e8afc2dcbb",
   "metadata": {},
   "source": [
    "#### RandomForestClassifier"
   ]
  },
  {
   "cell_type": "code",
   "execution_count": 17,
   "id": "2ea9e592-0d85-49a1-a8cb-6ea372e7a5a6",
   "metadata": {
    "tags": []
   },
   "outputs": [
    {
     "data": {
      "text/html": [
       "<style>#sk-container-id-5 {color: black;background-color: white;}#sk-container-id-5 pre{padding: 0;}#sk-container-id-5 div.sk-toggleable {background-color: white;}#sk-container-id-5 label.sk-toggleable__label {cursor: pointer;display: block;width: 100%;margin-bottom: 0;padding: 0.3em;box-sizing: border-box;text-align: center;}#sk-container-id-5 label.sk-toggleable__label-arrow:before {content: \"▸\";float: left;margin-right: 0.25em;color: #696969;}#sk-container-id-5 label.sk-toggleable__label-arrow:hover:before {color: black;}#sk-container-id-5 div.sk-estimator:hover label.sk-toggleable__label-arrow:before {color: black;}#sk-container-id-5 div.sk-toggleable__content {max-height: 0;max-width: 0;overflow: hidden;text-align: left;background-color: #f0f8ff;}#sk-container-id-5 div.sk-toggleable__content pre {margin: 0.2em;color: black;border-radius: 0.25em;background-color: #f0f8ff;}#sk-container-id-5 input.sk-toggleable__control:checked~div.sk-toggleable__content {max-height: 200px;max-width: 100%;overflow: auto;}#sk-container-id-5 input.sk-toggleable__control:checked~label.sk-toggleable__label-arrow:before {content: \"▾\";}#sk-container-id-5 div.sk-estimator input.sk-toggleable__control:checked~label.sk-toggleable__label {background-color: #d4ebff;}#sk-container-id-5 div.sk-label input.sk-toggleable__control:checked~label.sk-toggleable__label {background-color: #d4ebff;}#sk-container-id-5 input.sk-hidden--visually {border: 0;clip: rect(1px 1px 1px 1px);clip: rect(1px, 1px, 1px, 1px);height: 1px;margin: -1px;overflow: hidden;padding: 0;position: absolute;width: 1px;}#sk-container-id-5 div.sk-estimator {font-family: monospace;background-color: #f0f8ff;border: 1px dotted black;border-radius: 0.25em;box-sizing: border-box;margin-bottom: 0.5em;}#sk-container-id-5 div.sk-estimator:hover {background-color: #d4ebff;}#sk-container-id-5 div.sk-parallel-item::after {content: \"\";width: 100%;border-bottom: 1px solid gray;flex-grow: 1;}#sk-container-id-5 div.sk-label:hover label.sk-toggleable__label {background-color: #d4ebff;}#sk-container-id-5 div.sk-serial::before {content: \"\";position: absolute;border-left: 1px solid gray;box-sizing: border-box;top: 0;bottom: 0;left: 50%;z-index: 0;}#sk-container-id-5 div.sk-serial {display: flex;flex-direction: column;align-items: center;background-color: white;padding-right: 0.2em;padding-left: 0.2em;position: relative;}#sk-container-id-5 div.sk-item {position: relative;z-index: 1;}#sk-container-id-5 div.sk-parallel {display: flex;align-items: stretch;justify-content: center;background-color: white;position: relative;}#sk-container-id-5 div.sk-item::before, #sk-container-id-5 div.sk-parallel-item::before {content: \"\";position: absolute;border-left: 1px solid gray;box-sizing: border-box;top: 0;bottom: 0;left: 50%;z-index: -1;}#sk-container-id-5 div.sk-parallel-item {display: flex;flex-direction: column;z-index: 1;position: relative;background-color: white;}#sk-container-id-5 div.sk-parallel-item:first-child::after {align-self: flex-end;width: 50%;}#sk-container-id-5 div.sk-parallel-item:last-child::after {align-self: flex-start;width: 50%;}#sk-container-id-5 div.sk-parallel-item:only-child::after {width: 0;}#sk-container-id-5 div.sk-dashed-wrapped {border: 1px dashed gray;margin: 0 0.4em 0.5em 0.4em;box-sizing: border-box;padding-bottom: 0.4em;background-color: white;}#sk-container-id-5 div.sk-label label {font-family: monospace;font-weight: bold;display: inline-block;line-height: 1.2em;}#sk-container-id-5 div.sk-label-container {text-align: center;}#sk-container-id-5 div.sk-container {/* jupyter's `normalize.less` sets `[hidden] { display: none; }` but bootstrap.min.css set `[hidden] { display: none !important; }` so we also need the `!important` here to be able to override the default hidden behavior on the sphinx rendered scikit-learn.org. See: https://github.com/scikit-learn/scikit-learn/issues/21755 */display: inline-block !important;position: relative;}#sk-container-id-5 div.sk-text-repr-fallback {display: none;}</style><div id=\"sk-container-id-5\" class=\"sk-top-container\"><div class=\"sk-text-repr-fallback\"><pre>Pipeline(steps=[(&#x27;randomforestclassifier&#x27;,\n",
       "                 RandomForestClassifier(class_weight=&#x27;balanced&#x27;,\n",
       "                                        criterion=&#x27;entropy&#x27;, random_state=0))])</pre><b>In a Jupyter environment, please rerun this cell to show the HTML representation or trust the notebook. <br />On GitHub, the HTML representation is unable to render, please try loading this page with nbviewer.org.</b></div><div class=\"sk-container\" hidden><div class=\"sk-item sk-dashed-wrapped\"><div class=\"sk-label-container\"><div class=\"sk-label sk-toggleable\"><input class=\"sk-toggleable__control sk-hidden--visually\" id=\"sk-estimator-id-11\" type=\"checkbox\" ><label for=\"sk-estimator-id-11\" class=\"sk-toggleable__label sk-toggleable__label-arrow\">Pipeline</label><div class=\"sk-toggleable__content\"><pre>Pipeline(steps=[(&#x27;randomforestclassifier&#x27;,\n",
       "                 RandomForestClassifier(class_weight=&#x27;balanced&#x27;,\n",
       "                                        criterion=&#x27;entropy&#x27;, random_state=0))])</pre></div></div></div><div class=\"sk-serial\"><div class=\"sk-item\"><div class=\"sk-estimator sk-toggleable\"><input class=\"sk-toggleable__control sk-hidden--visually\" id=\"sk-estimator-id-12\" type=\"checkbox\" ><label for=\"sk-estimator-id-12\" class=\"sk-toggleable__label sk-toggleable__label-arrow\">RandomForestClassifier</label><div class=\"sk-toggleable__content\"><pre>RandomForestClassifier(class_weight=&#x27;balanced&#x27;, criterion=&#x27;entropy&#x27;,\n",
       "                       random_state=0)</pre></div></div></div></div></div></div></div>"
      ],
      "text/plain": [
       "Pipeline(steps=[('randomforestclassifier',\n",
       "                 RandomForestClassifier(class_weight='balanced',\n",
       "                                        criterion='entropy', random_state=0))])"
      ]
     },
     "execution_count": 17,
     "metadata": {},
     "output_type": "execute_result"
    }
   ],
   "source": [
    "model = make_pipeline(RandomForestClassifier(criterion='entropy', random_state = 0, class_weight='balanced'))\n",
    "model"
   ]
  },
  {
   "cell_type": "code",
   "execution_count": 18,
   "id": "031cc969-9551-45f5-bb83-df1088739694",
   "metadata": {
    "tags": []
   },
   "outputs": [],
   "source": [
    "param_grid = {'randomforestclassifier__n_estimators':[200, 300, 400, 500],\\\n",
    "              'randomforestclassifier__max_depth':[8, 16, 32],\\\n",
    "              'randomforestclassifier__min_samples_leaf':[1, 2, 3],\\\n",
    "              'randomforestclassifier__min_samples_split':[8, 16, 32]}"
   ]
  },
  {
   "cell_type": "markdown",
   "id": "20a29f76-fc21-442f-8ae6-0f99bddd27b3",
   "metadata": {},
   "source": [
    "Let's try GridSearchCV to see if there can be better H-parameters."
   ]
  },
  {
   "cell_type": "code",
   "execution_count": 19,
   "id": "6e733f91-650f-45e2-8e12-fafc0b7ad031",
   "metadata": {
    "tags": []
   },
   "outputs": [
    {
     "name": "stdout",
     "output_type": "stream",
     "text": [
      "Fitting 10 folds for each of 108 candidates, totalling 1080 fits\n",
      "CPU times: user 10min 30s, sys: 4.36 s, total: 10min 34s\n",
      "Wall time: 10min 37s\n"
     ]
    },
    {
     "data": {
      "text/html": [
       "<style>#sk-container-id-6 {color: black;background-color: white;}#sk-container-id-6 pre{padding: 0;}#sk-container-id-6 div.sk-toggleable {background-color: white;}#sk-container-id-6 label.sk-toggleable__label {cursor: pointer;display: block;width: 100%;margin-bottom: 0;padding: 0.3em;box-sizing: border-box;text-align: center;}#sk-container-id-6 label.sk-toggleable__label-arrow:before {content: \"▸\";float: left;margin-right: 0.25em;color: #696969;}#sk-container-id-6 label.sk-toggleable__label-arrow:hover:before {color: black;}#sk-container-id-6 div.sk-estimator:hover label.sk-toggleable__label-arrow:before {color: black;}#sk-container-id-6 div.sk-toggleable__content {max-height: 0;max-width: 0;overflow: hidden;text-align: left;background-color: #f0f8ff;}#sk-container-id-6 div.sk-toggleable__content pre {margin: 0.2em;color: black;border-radius: 0.25em;background-color: #f0f8ff;}#sk-container-id-6 input.sk-toggleable__control:checked~div.sk-toggleable__content {max-height: 200px;max-width: 100%;overflow: auto;}#sk-container-id-6 input.sk-toggleable__control:checked~label.sk-toggleable__label-arrow:before {content: \"▾\";}#sk-container-id-6 div.sk-estimator input.sk-toggleable__control:checked~label.sk-toggleable__label {background-color: #d4ebff;}#sk-container-id-6 div.sk-label input.sk-toggleable__control:checked~label.sk-toggleable__label {background-color: #d4ebff;}#sk-container-id-6 input.sk-hidden--visually {border: 0;clip: rect(1px 1px 1px 1px);clip: rect(1px, 1px, 1px, 1px);height: 1px;margin: -1px;overflow: hidden;padding: 0;position: absolute;width: 1px;}#sk-container-id-6 div.sk-estimator {font-family: monospace;background-color: #f0f8ff;border: 1px dotted black;border-radius: 0.25em;box-sizing: border-box;margin-bottom: 0.5em;}#sk-container-id-6 div.sk-estimator:hover {background-color: #d4ebff;}#sk-container-id-6 div.sk-parallel-item::after {content: \"\";width: 100%;border-bottom: 1px solid gray;flex-grow: 1;}#sk-container-id-6 div.sk-label:hover label.sk-toggleable__label {background-color: #d4ebff;}#sk-container-id-6 div.sk-serial::before {content: \"\";position: absolute;border-left: 1px solid gray;box-sizing: border-box;top: 0;bottom: 0;left: 50%;z-index: 0;}#sk-container-id-6 div.sk-serial {display: flex;flex-direction: column;align-items: center;background-color: white;padding-right: 0.2em;padding-left: 0.2em;position: relative;}#sk-container-id-6 div.sk-item {position: relative;z-index: 1;}#sk-container-id-6 div.sk-parallel {display: flex;align-items: stretch;justify-content: center;background-color: white;position: relative;}#sk-container-id-6 div.sk-item::before, #sk-container-id-6 div.sk-parallel-item::before {content: \"\";position: absolute;border-left: 1px solid gray;box-sizing: border-box;top: 0;bottom: 0;left: 50%;z-index: -1;}#sk-container-id-6 div.sk-parallel-item {display: flex;flex-direction: column;z-index: 1;position: relative;background-color: white;}#sk-container-id-6 div.sk-parallel-item:first-child::after {align-self: flex-end;width: 50%;}#sk-container-id-6 div.sk-parallel-item:last-child::after {align-self: flex-start;width: 50%;}#sk-container-id-6 div.sk-parallel-item:only-child::after {width: 0;}#sk-container-id-6 div.sk-dashed-wrapped {border: 1px dashed gray;margin: 0 0.4em 0.5em 0.4em;box-sizing: border-box;padding-bottom: 0.4em;background-color: white;}#sk-container-id-6 div.sk-label label {font-family: monospace;font-weight: bold;display: inline-block;line-height: 1.2em;}#sk-container-id-6 div.sk-label-container {text-align: center;}#sk-container-id-6 div.sk-container {/* jupyter's `normalize.less` sets `[hidden] { display: none; }` but bootstrap.min.css set `[hidden] { display: none !important; }` so we also need the `!important` here to be able to override the default hidden behavior on the sphinx rendered scikit-learn.org. See: https://github.com/scikit-learn/scikit-learn/issues/21755 */display: inline-block !important;position: relative;}#sk-container-id-6 div.sk-text-repr-fallback {display: none;}</style><div id=\"sk-container-id-6\" class=\"sk-top-container\"><div class=\"sk-text-repr-fallback\"><pre>GridSearchCV(cv=10,\n",
       "             estimator=Pipeline(steps=[(&#x27;randomforestclassifier&#x27;,\n",
       "                                        RandomForestClassifier(class_weight=&#x27;balanced&#x27;,\n",
       "                                                               criterion=&#x27;entropy&#x27;,\n",
       "                                                               random_state=0))]),\n",
       "             param_grid={&#x27;randomforestclassifier__max_depth&#x27;: [8, 16, 32],\n",
       "                         &#x27;randomforestclassifier__min_samples_leaf&#x27;: [1, 2, 3],\n",
       "                         &#x27;randomforestclassifier__min_samples_split&#x27;: [8, 16,\n",
       "                                                                       32],\n",
       "                         &#x27;randomforestclassifier__n_estimators&#x27;: [200, 300, 400,\n",
       "                                                                  500]},\n",
       "             return_train_score=True, scoring=&#x27;accuracy&#x27;, verbose=1)</pre><b>In a Jupyter environment, please rerun this cell to show the HTML representation or trust the notebook. <br />On GitHub, the HTML representation is unable to render, please try loading this page with nbviewer.org.</b></div><div class=\"sk-container\" hidden><div class=\"sk-item sk-dashed-wrapped\"><div class=\"sk-label-container\"><div class=\"sk-label sk-toggleable\"><input class=\"sk-toggleable__control sk-hidden--visually\" id=\"sk-estimator-id-13\" type=\"checkbox\" ><label for=\"sk-estimator-id-13\" class=\"sk-toggleable__label sk-toggleable__label-arrow\">GridSearchCV</label><div class=\"sk-toggleable__content\"><pre>GridSearchCV(cv=10,\n",
       "             estimator=Pipeline(steps=[(&#x27;randomforestclassifier&#x27;,\n",
       "                                        RandomForestClassifier(class_weight=&#x27;balanced&#x27;,\n",
       "                                                               criterion=&#x27;entropy&#x27;,\n",
       "                                                               random_state=0))]),\n",
       "             param_grid={&#x27;randomforestclassifier__max_depth&#x27;: [8, 16, 32],\n",
       "                         &#x27;randomforestclassifier__min_samples_leaf&#x27;: [1, 2, 3],\n",
       "                         &#x27;randomforestclassifier__min_samples_split&#x27;: [8, 16,\n",
       "                                                                       32],\n",
       "                         &#x27;randomforestclassifier__n_estimators&#x27;: [200, 300, 400,\n",
       "                                                                  500]},\n",
       "             return_train_score=True, scoring=&#x27;accuracy&#x27;, verbose=1)</pre></div></div></div><div class=\"sk-parallel\"><div class=\"sk-parallel-item\"><div class=\"sk-item\"><div class=\"sk-label-container\"><div class=\"sk-label sk-toggleable\"><input class=\"sk-toggleable__control sk-hidden--visually\" id=\"sk-estimator-id-14\" type=\"checkbox\" ><label for=\"sk-estimator-id-14\" class=\"sk-toggleable__label sk-toggleable__label-arrow\">estimator: Pipeline</label><div class=\"sk-toggleable__content\"><pre>Pipeline(steps=[(&#x27;randomforestclassifier&#x27;,\n",
       "                 RandomForestClassifier(class_weight=&#x27;balanced&#x27;,\n",
       "                                        criterion=&#x27;entropy&#x27;, random_state=0))])</pre></div></div></div><div class=\"sk-serial\"><div class=\"sk-item\"><div class=\"sk-serial\"><div class=\"sk-item\"><div class=\"sk-estimator sk-toggleable\"><input class=\"sk-toggleable__control sk-hidden--visually\" id=\"sk-estimator-id-15\" type=\"checkbox\" ><label for=\"sk-estimator-id-15\" class=\"sk-toggleable__label sk-toggleable__label-arrow\">RandomForestClassifier</label><div class=\"sk-toggleable__content\"><pre>RandomForestClassifier(class_weight=&#x27;balanced&#x27;, criterion=&#x27;entropy&#x27;,\n",
       "                       random_state=0)</pre></div></div></div></div></div></div></div></div></div></div></div></div>"
      ],
      "text/plain": [
       "GridSearchCV(cv=10,\n",
       "             estimator=Pipeline(steps=[('randomforestclassifier',\n",
       "                                        RandomForestClassifier(class_weight='balanced',\n",
       "                                                               criterion='entropy',\n",
       "                                                               random_state=0))]),\n",
       "             param_grid={'randomforestclassifier__max_depth': [8, 16, 32],\n",
       "                         'randomforestclassifier__min_samples_leaf': [1, 2, 3],\n",
       "                         'randomforestclassifier__min_samples_split': [8, 16,\n",
       "                                                                       32],\n",
       "                         'randomforestclassifier__n_estimators': [200, 300, 400,\n",
       "                                                                  500]},\n",
       "             return_train_score=True, scoring='accuracy', verbose=1)"
      ]
     },
     "execution_count": 19,
     "metadata": {},
     "output_type": "execute_result"
    }
   ],
   "source": [
    "%%time\n",
    "\n",
    "grid = GridSearchCV(model, param_grid = param_grid, cv = 10,\\\n",
    "                    return_train_score=True, scoring='accuracy', verbose=1)\n",
    "\n",
    "grid.fit(X_train, y_train)"
   ]
  },
  {
   "cell_type": "code",
   "execution_count": 20,
   "id": "a76d176f-61ab-4eb3-9d13-8d1d7d9047d3",
   "metadata": {
    "tags": []
   },
   "outputs": [
    {
     "name": "stdout",
     "output_type": "stream",
     "text": [
      "Best Hyperparameters: {'randomforestclassifier__max_depth': 8, 'randomforestclassifier__min_samples_leaf': 1, 'randomforestclassifier__min_samples_split': 8, 'randomforestclassifier__n_estimators': 400}\n",
      "Best Accuracy Score : 0.8314358372456965\n",
      "Test score : 0.8212290502793296\n",
      "F1: 0.7714285714285714\n"
     ]
    }
   ],
   "source": [
    "print('Best Hyperparameters: {}'.format(grid.best_params_))\n",
    "print('Best Accuracy Score : {}'.format(grid.best_score_))\n",
    "\n",
    "grid_pred = grid.predict(X_test)\n",
    "\n",
    "print('Test score : {}'.format(1. - np.mean(np.abs((y_test - grid_pred).tolist()))))\n",
    "print('F1: {}'.format(f1_score(y_test, grid_pred)))"
   ]
  },
  {
   "cell_type": "code",
   "execution_count": 21,
   "id": "b7314a84-8599-4495-8457-bf1286417eda",
   "metadata": {
    "tags": []
   },
   "outputs": [
    {
     "name": "stdout",
     "output_type": "stream",
     "text": [
      "891 data for training.\n",
      "418 data for testing.\n"
     ]
    }
   ],
   "source": [
    "X_train_data = train_data.drop(columns=['Survived'])\n",
    "y_train_data = train_data.Survived\n",
    "print(\"{} data for training.\".format(X_train_data.index.size))\n",
    "#display(X_train_data.head())\n",
    "\n",
    "X_test_data = test_data.drop(columns=['PassengerId'])\n",
    "print(\"{} data for testing.\".format(X_test_data.index.size))\n",
    "#display(X_test_data.head())"
   ]
  },
  {
   "cell_type": "code",
   "execution_count": 22,
   "id": "4b120cff-2ecf-4b73-9812-4f6eb32dba60",
   "metadata": {
    "tags": []
   },
   "outputs": [],
   "source": [
    "max_depth = 8\n",
    "min_samples_leaf = 1\n",
    "min_samples_split = 8\n",
    "n_estimators = 400"
   ]
  },
  {
   "cell_type": "code",
   "execution_count": 23,
   "id": "66bfe95d-9589-41ad-894f-317c12986cca",
   "metadata": {
    "tags": []
   },
   "outputs": [
    {
     "data": {
      "text/html": [
       "<style>#sk-container-id-7 {color: black;background-color: white;}#sk-container-id-7 pre{padding: 0;}#sk-container-id-7 div.sk-toggleable {background-color: white;}#sk-container-id-7 label.sk-toggleable__label {cursor: pointer;display: block;width: 100%;margin-bottom: 0;padding: 0.3em;box-sizing: border-box;text-align: center;}#sk-container-id-7 label.sk-toggleable__label-arrow:before {content: \"▸\";float: left;margin-right: 0.25em;color: #696969;}#sk-container-id-7 label.sk-toggleable__label-arrow:hover:before {color: black;}#sk-container-id-7 div.sk-estimator:hover label.sk-toggleable__label-arrow:before {color: black;}#sk-container-id-7 div.sk-toggleable__content {max-height: 0;max-width: 0;overflow: hidden;text-align: left;background-color: #f0f8ff;}#sk-container-id-7 div.sk-toggleable__content pre {margin: 0.2em;color: black;border-radius: 0.25em;background-color: #f0f8ff;}#sk-container-id-7 input.sk-toggleable__control:checked~div.sk-toggleable__content {max-height: 200px;max-width: 100%;overflow: auto;}#sk-container-id-7 input.sk-toggleable__control:checked~label.sk-toggleable__label-arrow:before {content: \"▾\";}#sk-container-id-7 div.sk-estimator input.sk-toggleable__control:checked~label.sk-toggleable__label {background-color: #d4ebff;}#sk-container-id-7 div.sk-label input.sk-toggleable__control:checked~label.sk-toggleable__label {background-color: #d4ebff;}#sk-container-id-7 input.sk-hidden--visually {border: 0;clip: rect(1px 1px 1px 1px);clip: rect(1px, 1px, 1px, 1px);height: 1px;margin: -1px;overflow: hidden;padding: 0;position: absolute;width: 1px;}#sk-container-id-7 div.sk-estimator {font-family: monospace;background-color: #f0f8ff;border: 1px dotted black;border-radius: 0.25em;box-sizing: border-box;margin-bottom: 0.5em;}#sk-container-id-7 div.sk-estimator:hover {background-color: #d4ebff;}#sk-container-id-7 div.sk-parallel-item::after {content: \"\";width: 100%;border-bottom: 1px solid gray;flex-grow: 1;}#sk-container-id-7 div.sk-label:hover label.sk-toggleable__label {background-color: #d4ebff;}#sk-container-id-7 div.sk-serial::before {content: \"\";position: absolute;border-left: 1px solid gray;box-sizing: border-box;top: 0;bottom: 0;left: 50%;z-index: 0;}#sk-container-id-7 div.sk-serial {display: flex;flex-direction: column;align-items: center;background-color: white;padding-right: 0.2em;padding-left: 0.2em;position: relative;}#sk-container-id-7 div.sk-item {position: relative;z-index: 1;}#sk-container-id-7 div.sk-parallel {display: flex;align-items: stretch;justify-content: center;background-color: white;position: relative;}#sk-container-id-7 div.sk-item::before, #sk-container-id-7 div.sk-parallel-item::before {content: \"\";position: absolute;border-left: 1px solid gray;box-sizing: border-box;top: 0;bottom: 0;left: 50%;z-index: -1;}#sk-container-id-7 div.sk-parallel-item {display: flex;flex-direction: column;z-index: 1;position: relative;background-color: white;}#sk-container-id-7 div.sk-parallel-item:first-child::after {align-self: flex-end;width: 50%;}#sk-container-id-7 div.sk-parallel-item:last-child::after {align-self: flex-start;width: 50%;}#sk-container-id-7 div.sk-parallel-item:only-child::after {width: 0;}#sk-container-id-7 div.sk-dashed-wrapped {border: 1px dashed gray;margin: 0 0.4em 0.5em 0.4em;box-sizing: border-box;padding-bottom: 0.4em;background-color: white;}#sk-container-id-7 div.sk-label label {font-family: monospace;font-weight: bold;display: inline-block;line-height: 1.2em;}#sk-container-id-7 div.sk-label-container {text-align: center;}#sk-container-id-7 div.sk-container {/* jupyter's `normalize.less` sets `[hidden] { display: none; }` but bootstrap.min.css set `[hidden] { display: none !important; }` so we also need the `!important` here to be able to override the default hidden behavior on the sphinx rendered scikit-learn.org. See: https://github.com/scikit-learn/scikit-learn/issues/21755 */display: inline-block !important;position: relative;}#sk-container-id-7 div.sk-text-repr-fallback {display: none;}</style><div id=\"sk-container-id-7\" class=\"sk-top-container\"><div class=\"sk-text-repr-fallback\"><pre>Pipeline(steps=[(&#x27;randomforestclassifier&#x27;,\n",
       "                 RandomForestClassifier(criterion=&#x27;entropy&#x27;, max_depth=8,\n",
       "                                        min_samples_split=8,\n",
       "                                        n_estimators=400))])</pre><b>In a Jupyter environment, please rerun this cell to show the HTML representation or trust the notebook. <br />On GitHub, the HTML representation is unable to render, please try loading this page with nbviewer.org.</b></div><div class=\"sk-container\" hidden><div class=\"sk-item sk-dashed-wrapped\"><div class=\"sk-label-container\"><div class=\"sk-label sk-toggleable\"><input class=\"sk-toggleable__control sk-hidden--visually\" id=\"sk-estimator-id-16\" type=\"checkbox\" ><label for=\"sk-estimator-id-16\" class=\"sk-toggleable__label sk-toggleable__label-arrow\">Pipeline</label><div class=\"sk-toggleable__content\"><pre>Pipeline(steps=[(&#x27;randomforestclassifier&#x27;,\n",
       "                 RandomForestClassifier(criterion=&#x27;entropy&#x27;, max_depth=8,\n",
       "                                        min_samples_split=8,\n",
       "                                        n_estimators=400))])</pre></div></div></div><div class=\"sk-serial\"><div class=\"sk-item\"><div class=\"sk-estimator sk-toggleable\"><input class=\"sk-toggleable__control sk-hidden--visually\" id=\"sk-estimator-id-17\" type=\"checkbox\" ><label for=\"sk-estimator-id-17\" class=\"sk-toggleable__label sk-toggleable__label-arrow\">RandomForestClassifier</label><div class=\"sk-toggleable__content\"><pre>RandomForestClassifier(criterion=&#x27;entropy&#x27;, max_depth=8, min_samples_split=8,\n",
       "                       n_estimators=400)</pre></div></div></div></div></div></div></div>"
      ],
      "text/plain": [
       "Pipeline(steps=[('randomforestclassifier',\n",
       "                 RandomForestClassifier(criterion='entropy', max_depth=8,\n",
       "                                        min_samples_split=8,\n",
       "                                        n_estimators=400))])"
      ]
     },
     "execution_count": 23,
     "metadata": {},
     "output_type": "execute_result"
    }
   ],
   "source": [
    "model = make_pipeline(RandomForestClassifier(criterion='entropy', max_depth=max_depth, min_samples_leaf=min_samples_leaf,\\\n",
    "                                            min_samples_split=min_samples_split, n_estimators=n_estimators))\n",
    "model.fit(X_train_data, y_train_data)"
   ]
  },
  {
   "cell_type": "code",
   "execution_count": 38,
   "id": "883a2799-7517-4935-b5b5-1ed502b73dc1",
   "metadata": {
    "tags": []
   },
   "outputs": [],
   "source": [
    "train_family_data = pd.read_csv(\"titanic_data/train_preprocessed_JB.csv\")\n",
    "test_family_data = pd.read_csv(\"titanic_data/test_preprocessed_JB.csv\")\n",
    "\n",
    "l_family_name = pd.unique(test_family_data[(test_family_data['Parch'] > 0)]['Family_Name'])\n",
    "num_parch = 4\n",
    "\n",
    "for name in l_family_name:\n",
    "    r = train_family_data[(train_family_data['Parch'] > num_parch) & (train_family_data['Family_Name'] == name)]['Survived'].mean()\n",
    "    if r > 0.5:\n",
    "        test_family_data.loc[(test_family_data['Family_Name'] == name) & (test_family_data['Parch'] > num_parch) &\\\n",
    "                             ((test_family_data['Sex'] == 'female') | (test_family_data['Title_Master'] == 1)), ['Survived']] = 1\n",
    "    else:\n",
    "        test_family_data.loc[(test_family_data['Family_Name'] == name) & (test_family_data['Parch'] > num_parch) &\\\n",
    "                             ((test_family_data['Sex'] == 'female') | (test_family_data['Title_Master'] == 1)), ['Survived']] = 0\n",
    "\n",
    "test_family_data = pd.DataFrame(data=test_family_data[['PassengerId', 'Survived']])"
   ]
  },
  {
   "cell_type": "code",
   "execution_count": 39,
   "id": "69f3a50d-b980-4d1b-a2a0-e0a4382c26a6",
   "metadata": {
    "tags": []
   },
   "outputs": [
    {
     "data": {
      "text/html": [
       "<div>\n",
       "<style scoped>\n",
       "    .dataframe tbody tr th:only-of-type {\n",
       "        vertical-align: middle;\n",
       "    }\n",
       "\n",
       "    .dataframe tbody tr th {\n",
       "        vertical-align: top;\n",
       "    }\n",
       "\n",
       "    .dataframe thead th {\n",
       "        text-align: right;\n",
       "    }\n",
       "</style>\n",
       "<table border=\"1\" class=\"dataframe\">\n",
       "  <thead>\n",
       "    <tr style=\"text-align: right;\">\n",
       "      <th></th>\n",
       "      <th>PassengerId</th>\n",
       "      <th>Survived</th>\n",
       "    </tr>\n",
       "  </thead>\n",
       "  <tbody>\n",
       "    <tr>\n",
       "      <th>0</th>\n",
       "      <td>892</td>\n",
       "      <td>0</td>\n",
       "    </tr>\n",
       "    <tr>\n",
       "      <th>1</th>\n",
       "      <td>893</td>\n",
       "      <td>0</td>\n",
       "    </tr>\n",
       "    <tr>\n",
       "      <th>2</th>\n",
       "      <td>894</td>\n",
       "      <td>0</td>\n",
       "    </tr>\n",
       "    <tr>\n",
       "      <th>3</th>\n",
       "      <td>895</td>\n",
       "      <td>0</td>\n",
       "    </tr>\n",
       "    <tr>\n",
       "      <th>4</th>\n",
       "      <td>896</td>\n",
       "      <td>1</td>\n",
       "    </tr>\n",
       "  </tbody>\n",
       "</table>\n",
       "</div>"
      ],
      "text/plain": [
       "   PassengerId  Survived\n",
       "0          892         0\n",
       "1          893         0\n",
       "2          894         0\n",
       "3          895         0\n",
       "4          896         1"
      ]
     },
     "metadata": {},
     "output_type": "display_data"
    }
   ],
   "source": [
    "predictions=model.predict(X_test_data)\n",
    "Submission = pd.DataFrame({'PassengerId':test_data['PassengerId'],'Survived':predictions})\n",
    "\n",
    "for pid in test_family_data[(~test_family_data['Survived'].isna())]['PassengerId'].unique():\n",
    "    Submission.loc[Submission['PassengerId'] == pid, ['Survived']] =\\\n",
    "    test_family_data.loc[test_family_data['PassengerId'] == pid, ['Survived']]\n",
    "    \n",
    "Submission.to_csv('Result_RF_01-08-2023_ver_2.csv', index=False)\n",
    "display(Submission.head())"
   ]
  },
  {
   "cell_type": "markdown",
   "id": "65ac24be-d187-4938-91f9-42494c90f795",
   "metadata": {},
   "source": [
    "#### GradientBoostingClassifier"
   ]
  },
  {
   "cell_type": "code",
   "execution_count": 33,
   "id": "2d92889f-6904-4a18-8fbd-47a49d81694e",
   "metadata": {
    "tags": []
   },
   "outputs": [
    {
     "data": {
      "text/html": [
       "<style>#sk-container-id-8 {color: black;background-color: white;}#sk-container-id-8 pre{padding: 0;}#sk-container-id-8 div.sk-toggleable {background-color: white;}#sk-container-id-8 label.sk-toggleable__label {cursor: pointer;display: block;width: 100%;margin-bottom: 0;padding: 0.3em;box-sizing: border-box;text-align: center;}#sk-container-id-8 label.sk-toggleable__label-arrow:before {content: \"▸\";float: left;margin-right: 0.25em;color: #696969;}#sk-container-id-8 label.sk-toggleable__label-arrow:hover:before {color: black;}#sk-container-id-8 div.sk-estimator:hover label.sk-toggleable__label-arrow:before {color: black;}#sk-container-id-8 div.sk-toggleable__content {max-height: 0;max-width: 0;overflow: hidden;text-align: left;background-color: #f0f8ff;}#sk-container-id-8 div.sk-toggleable__content pre {margin: 0.2em;color: black;border-radius: 0.25em;background-color: #f0f8ff;}#sk-container-id-8 input.sk-toggleable__control:checked~div.sk-toggleable__content {max-height: 200px;max-width: 100%;overflow: auto;}#sk-container-id-8 input.sk-toggleable__control:checked~label.sk-toggleable__label-arrow:before {content: \"▾\";}#sk-container-id-8 div.sk-estimator input.sk-toggleable__control:checked~label.sk-toggleable__label {background-color: #d4ebff;}#sk-container-id-8 div.sk-label input.sk-toggleable__control:checked~label.sk-toggleable__label {background-color: #d4ebff;}#sk-container-id-8 input.sk-hidden--visually {border: 0;clip: rect(1px 1px 1px 1px);clip: rect(1px, 1px, 1px, 1px);height: 1px;margin: -1px;overflow: hidden;padding: 0;position: absolute;width: 1px;}#sk-container-id-8 div.sk-estimator {font-family: monospace;background-color: #f0f8ff;border: 1px dotted black;border-radius: 0.25em;box-sizing: border-box;margin-bottom: 0.5em;}#sk-container-id-8 div.sk-estimator:hover {background-color: #d4ebff;}#sk-container-id-8 div.sk-parallel-item::after {content: \"\";width: 100%;border-bottom: 1px solid gray;flex-grow: 1;}#sk-container-id-8 div.sk-label:hover label.sk-toggleable__label {background-color: #d4ebff;}#sk-container-id-8 div.sk-serial::before {content: \"\";position: absolute;border-left: 1px solid gray;box-sizing: border-box;top: 0;bottom: 0;left: 50%;z-index: 0;}#sk-container-id-8 div.sk-serial {display: flex;flex-direction: column;align-items: center;background-color: white;padding-right: 0.2em;padding-left: 0.2em;position: relative;}#sk-container-id-8 div.sk-item {position: relative;z-index: 1;}#sk-container-id-8 div.sk-parallel {display: flex;align-items: stretch;justify-content: center;background-color: white;position: relative;}#sk-container-id-8 div.sk-item::before, #sk-container-id-8 div.sk-parallel-item::before {content: \"\";position: absolute;border-left: 1px solid gray;box-sizing: border-box;top: 0;bottom: 0;left: 50%;z-index: -1;}#sk-container-id-8 div.sk-parallel-item {display: flex;flex-direction: column;z-index: 1;position: relative;background-color: white;}#sk-container-id-8 div.sk-parallel-item:first-child::after {align-self: flex-end;width: 50%;}#sk-container-id-8 div.sk-parallel-item:last-child::after {align-self: flex-start;width: 50%;}#sk-container-id-8 div.sk-parallel-item:only-child::after {width: 0;}#sk-container-id-8 div.sk-dashed-wrapped {border: 1px dashed gray;margin: 0 0.4em 0.5em 0.4em;box-sizing: border-box;padding-bottom: 0.4em;background-color: white;}#sk-container-id-8 div.sk-label label {font-family: monospace;font-weight: bold;display: inline-block;line-height: 1.2em;}#sk-container-id-8 div.sk-label-container {text-align: center;}#sk-container-id-8 div.sk-container {/* jupyter's `normalize.less` sets `[hidden] { display: none; }` but bootstrap.min.css set `[hidden] { display: none !important; }` so we also need the `!important` here to be able to override the default hidden behavior on the sphinx rendered scikit-learn.org. See: https://github.com/scikit-learn/scikit-learn/issues/21755 */display: inline-block !important;position: relative;}#sk-container-id-8 div.sk-text-repr-fallback {display: none;}</style><div id=\"sk-container-id-8\" class=\"sk-top-container\"><div class=\"sk-text-repr-fallback\"><pre>Pipeline(steps=[(&#x27;gradientboostingclassifier&#x27;,\n",
       "                 GradientBoostingClassifier(random_state=0))])</pre><b>In a Jupyter environment, please rerun this cell to show the HTML representation or trust the notebook. <br />On GitHub, the HTML representation is unable to render, please try loading this page with nbviewer.org.</b></div><div class=\"sk-container\" hidden><div class=\"sk-item sk-dashed-wrapped\"><div class=\"sk-label-container\"><div class=\"sk-label sk-toggleable\"><input class=\"sk-toggleable__control sk-hidden--visually\" id=\"sk-estimator-id-18\" type=\"checkbox\" ><label for=\"sk-estimator-id-18\" class=\"sk-toggleable__label sk-toggleable__label-arrow\">Pipeline</label><div class=\"sk-toggleable__content\"><pre>Pipeline(steps=[(&#x27;gradientboostingclassifier&#x27;,\n",
       "                 GradientBoostingClassifier(random_state=0))])</pre></div></div></div><div class=\"sk-serial\"><div class=\"sk-item\"><div class=\"sk-estimator sk-toggleable\"><input class=\"sk-toggleable__control sk-hidden--visually\" id=\"sk-estimator-id-19\" type=\"checkbox\" ><label for=\"sk-estimator-id-19\" class=\"sk-toggleable__label sk-toggleable__label-arrow\">GradientBoostingClassifier</label><div class=\"sk-toggleable__content\"><pre>GradientBoostingClassifier(random_state=0)</pre></div></div></div></div></div></div></div>"
      ],
      "text/plain": [
       "Pipeline(steps=[('gradientboostingclassifier',\n",
       "                 GradientBoostingClassifier(random_state=0))])"
      ]
     },
     "execution_count": 33,
     "metadata": {},
     "output_type": "execute_result"
    }
   ],
   "source": [
    "model = make_pipeline(GradientBoostingClassifier(random_state = 0, verbose=0))\n",
    "model"
   ]
  },
  {
   "cell_type": "code",
   "execution_count": 34,
   "id": "cf6f6a08-969c-4f0a-8002-bdf3478c6e93",
   "metadata": {
    "tags": []
   },
   "outputs": [],
   "source": [
    "parameters = {\n",
    "    \"gradientboostingclassifier__loss\":[\"log_loss\"],\n",
    "    \"gradientboostingclassifier__learning_rate\": [0.01, 0.1],\n",
    "    \"gradientboostingclassifier__min_samples_split\": np.linspace(0.1, 0.5),\n",
    "    \"gradientboostingclassifier__min_samples_leaf\": np.linspace(0.1, 0.5),\n",
    "    \"gradientboostingclassifier__max_depth\":[5,7],\n",
    "    \"gradientboostingclassifier__max_features\":[\"sqrt\"],\n",
    "    \"gradientboostingclassifier__criterion\": [\"friedman_mse\"],\n",
    "    \"gradientboostingclassifier__subsample\":[0.4, 0.6, 0.8, 1.0],\n",
    "    \"gradientboostingclassifier__n_estimators\":[5]\n",
    "    }"
   ]
  },
  {
   "cell_type": "markdown",
   "id": "d5c50f32-8102-449d-8a02-f729ccfc2b57",
   "metadata": {},
   "source": [
    "Let's try GridSearchCV to see if there can be better H-parameters."
   ]
  },
  {
   "cell_type": "code",
   "execution_count": 35,
   "id": "ae1e874b-5f29-41c8-822e-8aa947a5cf8d",
   "metadata": {
    "tags": []
   },
   "outputs": [
    {
     "name": "stdout",
     "output_type": "stream",
     "text": [
      "Fitting 5 folds for each of 40000 candidates, totalling 200000 fits\n",
      "CPU times: user 27min 42s, sys: 1.85 s, total: 27min 44s\n",
      "Wall time: 27min 49s\n"
     ]
    },
    {
     "data": {
      "text/html": [
       "<style>#sk-container-id-9 {color: black;background-color: white;}#sk-container-id-9 pre{padding: 0;}#sk-container-id-9 div.sk-toggleable {background-color: white;}#sk-container-id-9 label.sk-toggleable__label {cursor: pointer;display: block;width: 100%;margin-bottom: 0;padding: 0.3em;box-sizing: border-box;text-align: center;}#sk-container-id-9 label.sk-toggleable__label-arrow:before {content: \"▸\";float: left;margin-right: 0.25em;color: #696969;}#sk-container-id-9 label.sk-toggleable__label-arrow:hover:before {color: black;}#sk-container-id-9 div.sk-estimator:hover label.sk-toggleable__label-arrow:before {color: black;}#sk-container-id-9 div.sk-toggleable__content {max-height: 0;max-width: 0;overflow: hidden;text-align: left;background-color: #f0f8ff;}#sk-container-id-9 div.sk-toggleable__content pre {margin: 0.2em;color: black;border-radius: 0.25em;background-color: #f0f8ff;}#sk-container-id-9 input.sk-toggleable__control:checked~div.sk-toggleable__content {max-height: 200px;max-width: 100%;overflow: auto;}#sk-container-id-9 input.sk-toggleable__control:checked~label.sk-toggleable__label-arrow:before {content: \"▾\";}#sk-container-id-9 div.sk-estimator input.sk-toggleable__control:checked~label.sk-toggleable__label {background-color: #d4ebff;}#sk-container-id-9 div.sk-label input.sk-toggleable__control:checked~label.sk-toggleable__label {background-color: #d4ebff;}#sk-container-id-9 input.sk-hidden--visually {border: 0;clip: rect(1px 1px 1px 1px);clip: rect(1px, 1px, 1px, 1px);height: 1px;margin: -1px;overflow: hidden;padding: 0;position: absolute;width: 1px;}#sk-container-id-9 div.sk-estimator {font-family: monospace;background-color: #f0f8ff;border: 1px dotted black;border-radius: 0.25em;box-sizing: border-box;margin-bottom: 0.5em;}#sk-container-id-9 div.sk-estimator:hover {background-color: #d4ebff;}#sk-container-id-9 div.sk-parallel-item::after {content: \"\";width: 100%;border-bottom: 1px solid gray;flex-grow: 1;}#sk-container-id-9 div.sk-label:hover label.sk-toggleable__label {background-color: #d4ebff;}#sk-container-id-9 div.sk-serial::before {content: \"\";position: absolute;border-left: 1px solid gray;box-sizing: border-box;top: 0;bottom: 0;left: 50%;z-index: 0;}#sk-container-id-9 div.sk-serial {display: flex;flex-direction: column;align-items: center;background-color: white;padding-right: 0.2em;padding-left: 0.2em;position: relative;}#sk-container-id-9 div.sk-item {position: relative;z-index: 1;}#sk-container-id-9 div.sk-parallel {display: flex;align-items: stretch;justify-content: center;background-color: white;position: relative;}#sk-container-id-9 div.sk-item::before, #sk-container-id-9 div.sk-parallel-item::before {content: \"\";position: absolute;border-left: 1px solid gray;box-sizing: border-box;top: 0;bottom: 0;left: 50%;z-index: -1;}#sk-container-id-9 div.sk-parallel-item {display: flex;flex-direction: column;z-index: 1;position: relative;background-color: white;}#sk-container-id-9 div.sk-parallel-item:first-child::after {align-self: flex-end;width: 50%;}#sk-container-id-9 div.sk-parallel-item:last-child::after {align-self: flex-start;width: 50%;}#sk-container-id-9 div.sk-parallel-item:only-child::after {width: 0;}#sk-container-id-9 div.sk-dashed-wrapped {border: 1px dashed gray;margin: 0 0.4em 0.5em 0.4em;box-sizing: border-box;padding-bottom: 0.4em;background-color: white;}#sk-container-id-9 div.sk-label label {font-family: monospace;font-weight: bold;display: inline-block;line-height: 1.2em;}#sk-container-id-9 div.sk-label-container {text-align: center;}#sk-container-id-9 div.sk-container {/* jupyter's `normalize.less` sets `[hidden] { display: none; }` but bootstrap.min.css set `[hidden] { display: none !important; }` so we also need the `!important` here to be able to override the default hidden behavior on the sphinx rendered scikit-learn.org. See: https://github.com/scikit-learn/scikit-learn/issues/21755 */display: inline-block !important;position: relative;}#sk-container-id-9 div.sk-text-repr-fallback {display: none;}</style><div id=\"sk-container-id-9\" class=\"sk-top-container\"><div class=\"sk-text-repr-fallback\"><pre>GridSearchCV(cv=5,\n",
       "             estimator=Pipeline(steps=[(&#x27;gradientboostingclassifier&#x27;,\n",
       "                                        GradientBoostingClassifier(random_state=0))]),\n",
       "             param_grid={&#x27;gradientboostingclassifier__criterion&#x27;: [&#x27;friedman_mse&#x27;],\n",
       "                         &#x27;gradientboostingclassifier__learning_rate&#x27;: [0.01,\n",
       "                                                                       0.1],\n",
       "                         &#x27;gradientboostingclassifier__loss&#x27;: [&#x27;log_loss&#x27;],\n",
       "                         &#x27;gradientboostingclassifier__max_depth&#x27;: [5, 7],\n",
       "                         &#x27;gradientboo...\n",
       "       0.34489796, 0.35306122, 0.36122449, 0.36938776, 0.37755102,\n",
       "       0.38571429, 0.39387755, 0.40204082, 0.41020408, 0.41836735,\n",
       "       0.42653061, 0.43469388, 0.44285714, 0.45102041, 0.45918367,\n",
       "       0.46734694, 0.4755102 , 0.48367347, 0.49183673, 0.5       ]),\n",
       "                         &#x27;gradientboostingclassifier__n_estimators&#x27;: [5],\n",
       "                         &#x27;gradientboostingclassifier__subsample&#x27;: [0.4, 0.6,\n",
       "                                                                   0.8, 1.0]},\n",
       "             return_train_score=True, scoring=&#x27;accuracy&#x27;, verbose=1)</pre><b>In a Jupyter environment, please rerun this cell to show the HTML representation or trust the notebook. <br />On GitHub, the HTML representation is unable to render, please try loading this page with nbviewer.org.</b></div><div class=\"sk-container\" hidden><div class=\"sk-item sk-dashed-wrapped\"><div class=\"sk-label-container\"><div class=\"sk-label sk-toggleable\"><input class=\"sk-toggleable__control sk-hidden--visually\" id=\"sk-estimator-id-20\" type=\"checkbox\" ><label for=\"sk-estimator-id-20\" class=\"sk-toggleable__label sk-toggleable__label-arrow\">GridSearchCV</label><div class=\"sk-toggleable__content\"><pre>GridSearchCV(cv=5,\n",
       "             estimator=Pipeline(steps=[(&#x27;gradientboostingclassifier&#x27;,\n",
       "                                        GradientBoostingClassifier(random_state=0))]),\n",
       "             param_grid={&#x27;gradientboostingclassifier__criterion&#x27;: [&#x27;friedman_mse&#x27;],\n",
       "                         &#x27;gradientboostingclassifier__learning_rate&#x27;: [0.01,\n",
       "                                                                       0.1],\n",
       "                         &#x27;gradientboostingclassifier__loss&#x27;: [&#x27;log_loss&#x27;],\n",
       "                         &#x27;gradientboostingclassifier__max_depth&#x27;: [5, 7],\n",
       "                         &#x27;gradientboo...\n",
       "       0.34489796, 0.35306122, 0.36122449, 0.36938776, 0.37755102,\n",
       "       0.38571429, 0.39387755, 0.40204082, 0.41020408, 0.41836735,\n",
       "       0.42653061, 0.43469388, 0.44285714, 0.45102041, 0.45918367,\n",
       "       0.46734694, 0.4755102 , 0.48367347, 0.49183673, 0.5       ]),\n",
       "                         &#x27;gradientboostingclassifier__n_estimators&#x27;: [5],\n",
       "                         &#x27;gradientboostingclassifier__subsample&#x27;: [0.4, 0.6,\n",
       "                                                                   0.8, 1.0]},\n",
       "             return_train_score=True, scoring=&#x27;accuracy&#x27;, verbose=1)</pre></div></div></div><div class=\"sk-parallel\"><div class=\"sk-parallel-item\"><div class=\"sk-item\"><div class=\"sk-label-container\"><div class=\"sk-label sk-toggleable\"><input class=\"sk-toggleable__control sk-hidden--visually\" id=\"sk-estimator-id-21\" type=\"checkbox\" ><label for=\"sk-estimator-id-21\" class=\"sk-toggleable__label sk-toggleable__label-arrow\">estimator: Pipeline</label><div class=\"sk-toggleable__content\"><pre>Pipeline(steps=[(&#x27;gradientboostingclassifier&#x27;,\n",
       "                 GradientBoostingClassifier(random_state=0))])</pre></div></div></div><div class=\"sk-serial\"><div class=\"sk-item\"><div class=\"sk-serial\"><div class=\"sk-item\"><div class=\"sk-estimator sk-toggleable\"><input class=\"sk-toggleable__control sk-hidden--visually\" id=\"sk-estimator-id-22\" type=\"checkbox\" ><label for=\"sk-estimator-id-22\" class=\"sk-toggleable__label sk-toggleable__label-arrow\">GradientBoostingClassifier</label><div class=\"sk-toggleable__content\"><pre>GradientBoostingClassifier(random_state=0)</pre></div></div></div></div></div></div></div></div></div></div></div></div>"
      ],
      "text/plain": [
       "GridSearchCV(cv=5,\n",
       "             estimator=Pipeline(steps=[('gradientboostingclassifier',\n",
       "                                        GradientBoostingClassifier(random_state=0))]),\n",
       "             param_grid={'gradientboostingclassifier__criterion': ['friedman_mse'],\n",
       "                         'gradientboostingclassifier__learning_rate': [0.01,\n",
       "                                                                       0.1],\n",
       "                         'gradientboostingclassifier__loss': ['log_loss'],\n",
       "                         'gradientboostingclassifier__max_depth': [5, 7],\n",
       "                         'gradientboo...\n",
       "       0.34489796, 0.35306122, 0.36122449, 0.36938776, 0.37755102,\n",
       "       0.38571429, 0.39387755, 0.40204082, 0.41020408, 0.41836735,\n",
       "       0.42653061, 0.43469388, 0.44285714, 0.45102041, 0.45918367,\n",
       "       0.46734694, 0.4755102 , 0.48367347, 0.49183673, 0.5       ]),\n",
       "                         'gradientboostingclassifier__n_estimators': [5],\n",
       "                         'gradientboostingclassifier__subsample': [0.4, 0.6,\n",
       "                                                                   0.8, 1.0]},\n",
       "             return_train_score=True, scoring='accuracy', verbose=1)"
      ]
     },
     "execution_count": 35,
     "metadata": {},
     "output_type": "execute_result"
    }
   ],
   "source": [
    "#%%time\n",
    "\n",
    "#grid = GridSearchCV(model, param_grid = parameters, cv = 5,\\\n",
    "#                    return_train_score=True, scoring='accuracy', verbose=1)\n",
    "\n",
    "#grid.fit(X_train, y_train)"
   ]
  },
  {
   "cell_type": "code",
   "execution_count": 36,
   "id": "a374cfa8-5e6b-42c3-92dc-9d861e3b44ba",
   "metadata": {
    "tags": []
   },
   "outputs": [
    {
     "name": "stdout",
     "output_type": "stream",
     "text": [
      "Best Hyperparameters: {'gradientboostingclassifier__criterion': 'friedman_mse', 'gradientboostingclassifier__learning_rate': 0.1, 'gradientboostingclassifier__loss': 'log_loss', 'gradientboostingclassifier__max_depth': 5, 'gradientboostingclassifier__max_features': 'sqrt', 'gradientboostingclassifier__min_samples_leaf': 0.1, 'gradientboostingclassifier__min_samples_split': 0.2306122448979592, 'gradientboostingclassifier__n_estimators': 5, 'gradientboostingclassifier__subsample': 0.8}\n",
      "Best Accuracy Score : 0.7767063921993499\n",
      "Test score : 0.8100558659217877\n",
      "F1: 0.7301587301587301\n"
     ]
    }
   ],
   "source": [
    "print('Best Hyperparameters: {}'.format(grid.best_params_))\n",
    "print('Best Accuracy Score : {}'.format(grid.best_score_))\n",
    "\n",
    "grid_pred = grid.predict(X_test)\n",
    "\n",
    "print('Test score : {}'.format(1. - np.mean(np.abs((y_test - grid_pred).tolist()))))\n",
    "print('F1: {}'.format(f1_score(y_test, grid_pred)))"
   ]
  },
  {
   "cell_type": "code",
   "execution_count": 37,
   "id": "f0f38e31-c0c0-438f-8e6f-3e68b18cf92d",
   "metadata": {
    "tags": []
   },
   "outputs": [
    {
     "name": "stdout",
     "output_type": "stream",
     "text": [
      "891 data for training.\n",
      "418 data for testing.\n"
     ]
    }
   ],
   "source": [
    "X_train_data = train_data.drop(columns=['Survived'])\n",
    "y_train_data = train_data.Survived\n",
    "print(\"{} data for training.\".format(X_train_data.index.size))\n",
    "\n",
    "X_test_data = test_data.drop(columns=['PassengerId'])\n",
    "print(\"{} data for testing.\".format(X_test_data.index.size))"
   ]
  },
  {
   "cell_type": "code",
   "execution_count": 38,
   "id": "ecdcec83-f75a-49e8-93fc-a893dd81f670",
   "metadata": {
    "tags": []
   },
   "outputs": [],
   "source": [
    "loss = 'log_loss'\n",
    "learning_rate = 0.1\n",
    "min_samples_split = 0.2306122448979592\n",
    "min_samples_leaf = 0.1\n",
    "max_depth = 5\n",
    "max_features = 'sqrt'\n",
    "criterion = 'friedman_mse'\n",
    "subsample = 0.8\n",
    "n_estimators = 5"
   ]
  },
  {
   "cell_type": "code",
   "execution_count": 39,
   "id": "24c2b5af-a46d-440b-96d2-5e175adb344a",
   "metadata": {
    "tags": []
   },
   "outputs": [
    {
     "data": {
      "text/html": [
       "<style>#sk-container-id-10 {color: black;background-color: white;}#sk-container-id-10 pre{padding: 0;}#sk-container-id-10 div.sk-toggleable {background-color: white;}#sk-container-id-10 label.sk-toggleable__label {cursor: pointer;display: block;width: 100%;margin-bottom: 0;padding: 0.3em;box-sizing: border-box;text-align: center;}#sk-container-id-10 label.sk-toggleable__label-arrow:before {content: \"▸\";float: left;margin-right: 0.25em;color: #696969;}#sk-container-id-10 label.sk-toggleable__label-arrow:hover:before {color: black;}#sk-container-id-10 div.sk-estimator:hover label.sk-toggleable__label-arrow:before {color: black;}#sk-container-id-10 div.sk-toggleable__content {max-height: 0;max-width: 0;overflow: hidden;text-align: left;background-color: #f0f8ff;}#sk-container-id-10 div.sk-toggleable__content pre {margin: 0.2em;color: black;border-radius: 0.25em;background-color: #f0f8ff;}#sk-container-id-10 input.sk-toggleable__control:checked~div.sk-toggleable__content {max-height: 200px;max-width: 100%;overflow: auto;}#sk-container-id-10 input.sk-toggleable__control:checked~label.sk-toggleable__label-arrow:before {content: \"▾\";}#sk-container-id-10 div.sk-estimator input.sk-toggleable__control:checked~label.sk-toggleable__label {background-color: #d4ebff;}#sk-container-id-10 div.sk-label input.sk-toggleable__control:checked~label.sk-toggleable__label {background-color: #d4ebff;}#sk-container-id-10 input.sk-hidden--visually {border: 0;clip: rect(1px 1px 1px 1px);clip: rect(1px, 1px, 1px, 1px);height: 1px;margin: -1px;overflow: hidden;padding: 0;position: absolute;width: 1px;}#sk-container-id-10 div.sk-estimator {font-family: monospace;background-color: #f0f8ff;border: 1px dotted black;border-radius: 0.25em;box-sizing: border-box;margin-bottom: 0.5em;}#sk-container-id-10 div.sk-estimator:hover {background-color: #d4ebff;}#sk-container-id-10 div.sk-parallel-item::after {content: \"\";width: 100%;border-bottom: 1px solid gray;flex-grow: 1;}#sk-container-id-10 div.sk-label:hover label.sk-toggleable__label {background-color: #d4ebff;}#sk-container-id-10 div.sk-serial::before {content: \"\";position: absolute;border-left: 1px solid gray;box-sizing: border-box;top: 0;bottom: 0;left: 50%;z-index: 0;}#sk-container-id-10 div.sk-serial {display: flex;flex-direction: column;align-items: center;background-color: white;padding-right: 0.2em;padding-left: 0.2em;position: relative;}#sk-container-id-10 div.sk-item {position: relative;z-index: 1;}#sk-container-id-10 div.sk-parallel {display: flex;align-items: stretch;justify-content: center;background-color: white;position: relative;}#sk-container-id-10 div.sk-item::before, #sk-container-id-10 div.sk-parallel-item::before {content: \"\";position: absolute;border-left: 1px solid gray;box-sizing: border-box;top: 0;bottom: 0;left: 50%;z-index: -1;}#sk-container-id-10 div.sk-parallel-item {display: flex;flex-direction: column;z-index: 1;position: relative;background-color: white;}#sk-container-id-10 div.sk-parallel-item:first-child::after {align-self: flex-end;width: 50%;}#sk-container-id-10 div.sk-parallel-item:last-child::after {align-self: flex-start;width: 50%;}#sk-container-id-10 div.sk-parallel-item:only-child::after {width: 0;}#sk-container-id-10 div.sk-dashed-wrapped {border: 1px dashed gray;margin: 0 0.4em 0.5em 0.4em;box-sizing: border-box;padding-bottom: 0.4em;background-color: white;}#sk-container-id-10 div.sk-label label {font-family: monospace;font-weight: bold;display: inline-block;line-height: 1.2em;}#sk-container-id-10 div.sk-label-container {text-align: center;}#sk-container-id-10 div.sk-container {/* jupyter's `normalize.less` sets `[hidden] { display: none; }` but bootstrap.min.css set `[hidden] { display: none !important; }` so we also need the `!important` here to be able to override the default hidden behavior on the sphinx rendered scikit-learn.org. See: https://github.com/scikit-learn/scikit-learn/issues/21755 */display: inline-block !important;position: relative;}#sk-container-id-10 div.sk-text-repr-fallback {display: none;}</style><div id=\"sk-container-id-10\" class=\"sk-top-container\"><div class=\"sk-text-repr-fallback\"><pre>Pipeline(steps=[(&#x27;gradientboostingclassifier&#x27;,\n",
       "                 GradientBoostingClassifier(max_depth=5, max_features=&#x27;sqrt&#x27;,\n",
       "                                            min_samples_leaf=0.1,\n",
       "                                            min_samples_split=0.2306122448979592,\n",
       "                                            n_estimators=5, random_state=0,\n",
       "                                            subsample=0.8))])</pre><b>In a Jupyter environment, please rerun this cell to show the HTML representation or trust the notebook. <br />On GitHub, the HTML representation is unable to render, please try loading this page with nbviewer.org.</b></div><div class=\"sk-container\" hidden><div class=\"sk-item sk-dashed-wrapped\"><div class=\"sk-label-container\"><div class=\"sk-label sk-toggleable\"><input class=\"sk-toggleable__control sk-hidden--visually\" id=\"sk-estimator-id-23\" type=\"checkbox\" ><label for=\"sk-estimator-id-23\" class=\"sk-toggleable__label sk-toggleable__label-arrow\">Pipeline</label><div class=\"sk-toggleable__content\"><pre>Pipeline(steps=[(&#x27;gradientboostingclassifier&#x27;,\n",
       "                 GradientBoostingClassifier(max_depth=5, max_features=&#x27;sqrt&#x27;,\n",
       "                                            min_samples_leaf=0.1,\n",
       "                                            min_samples_split=0.2306122448979592,\n",
       "                                            n_estimators=5, random_state=0,\n",
       "                                            subsample=0.8))])</pre></div></div></div><div class=\"sk-serial\"><div class=\"sk-item\"><div class=\"sk-estimator sk-toggleable\"><input class=\"sk-toggleable__control sk-hidden--visually\" id=\"sk-estimator-id-24\" type=\"checkbox\" ><label for=\"sk-estimator-id-24\" class=\"sk-toggleable__label sk-toggleable__label-arrow\">GradientBoostingClassifier</label><div class=\"sk-toggleable__content\"><pre>GradientBoostingClassifier(max_depth=5, max_features=&#x27;sqrt&#x27;,\n",
       "                           min_samples_leaf=0.1,\n",
       "                           min_samples_split=0.2306122448979592, n_estimators=5,\n",
       "                           random_state=0, subsample=0.8)</pre></div></div></div></div></div></div></div>"
      ],
      "text/plain": [
       "Pipeline(steps=[('gradientboostingclassifier',\n",
       "                 GradientBoostingClassifier(max_depth=5, max_features='sqrt',\n",
       "                                            min_samples_leaf=0.1,\n",
       "                                            min_samples_split=0.2306122448979592,\n",
       "                                            n_estimators=5, random_state=0,\n",
       "                                            subsample=0.8))])"
      ]
     },
     "execution_count": 39,
     "metadata": {},
     "output_type": "execute_result"
    }
   ],
   "source": [
    "model = make_pipeline(GradientBoostingClassifier(random_state = 0, verbose=0,\\\n",
    "                                                loss=loss, learning_rate=learning_rate,\\\n",
    "                                                min_samples_split=min_samples_split,\\\n",
    "                                                min_samples_leaf=min_samples_leaf,\\\n",
    "                                                max_depth=max_depth, max_features=max_features,\\\n",
    "                                                criterion=criterion, subsample=subsample,\\\n",
    "                                                n_estimators=n_estimators))\n",
    "model.fit(X_train_data, y_train_data)"
   ]
  },
  {
   "cell_type": "code",
   "execution_count": 40,
   "id": "5abc9b83-1be7-4fe4-a15d-09888458e4fc",
   "metadata": {
    "tags": []
   },
   "outputs": [
    {
     "data": {
      "text/html": [
       "<div>\n",
       "<style scoped>\n",
       "    .dataframe tbody tr th:only-of-type {\n",
       "        vertical-align: middle;\n",
       "    }\n",
       "\n",
       "    .dataframe tbody tr th {\n",
       "        vertical-align: top;\n",
       "    }\n",
       "\n",
       "    .dataframe thead th {\n",
       "        text-align: right;\n",
       "    }\n",
       "</style>\n",
       "<table border=\"1\" class=\"dataframe\">\n",
       "  <thead>\n",
       "    <tr style=\"text-align: right;\">\n",
       "      <th></th>\n",
       "      <th>PassengerId</th>\n",
       "      <th>Survived</th>\n",
       "    </tr>\n",
       "  </thead>\n",
       "  <tbody>\n",
       "    <tr>\n",
       "      <th>0</th>\n",
       "      <td>892</td>\n",
       "      <td>0</td>\n",
       "    </tr>\n",
       "    <tr>\n",
       "      <th>1</th>\n",
       "      <td>893</td>\n",
       "      <td>0</td>\n",
       "    </tr>\n",
       "    <tr>\n",
       "      <th>2</th>\n",
       "      <td>894</td>\n",
       "      <td>0</td>\n",
       "    </tr>\n",
       "    <tr>\n",
       "      <th>3</th>\n",
       "      <td>895</td>\n",
       "      <td>0</td>\n",
       "    </tr>\n",
       "    <tr>\n",
       "      <th>4</th>\n",
       "      <td>896</td>\n",
       "      <td>0</td>\n",
       "    </tr>\n",
       "  </tbody>\n",
       "</table>\n",
       "</div>"
      ],
      "text/plain": [
       "   PassengerId  Survived\n",
       "0          892         0\n",
       "1          893         0\n",
       "2          894         0\n",
       "3          895         0\n",
       "4          896         0"
      ]
     },
     "metadata": {},
     "output_type": "display_data"
    }
   ],
   "source": [
    "predictions=model.predict(X_test_data)\n",
    "Submission = pd.DataFrame({'PassengerId':test_data['PassengerId'],'Survived':predictions})\n",
    "Submission.to_csv('Result_GB_01-08-2023.csv', index=False)\n",
    "display(Submission.head())"
   ]
  },
  {
   "cell_type": "markdown",
   "id": "60505015-66f4-4e8f-b910-4039b207a5d3",
   "metadata": {},
   "source": [
    "## 5. XGBoost"
   ]
  },
  {
   "cell_type": "code",
   "execution_count": 40,
   "id": "e45c3696-2cbe-4055-b02c-6e0e2f5a6319",
   "metadata": {
    "tags": []
   },
   "outputs": [],
   "source": [
    "from sklearn.model_selection import StratifiedKFold\n",
    "from xgboost import XGBClassifier\n",
    "\n",
    "N = 5"
   ]
  },
  {
   "cell_type": "code",
   "execution_count": 41,
   "id": "d567dea0-383c-4fa7-9439-fdd3d9c59819",
   "metadata": {
    "tags": []
   },
   "outputs": [],
   "source": [
    "param_grid = {\n",
    "    'learning_rate': [0.01, 0.05, 0.1],\n",
    "    'max_depth': [1, 3, 7, 10, 15],\n",
    "    'n_estimators': [50, 100, 200, 300],\n",
    "    'colsample_bytree': [0.6, 0.8, 1.0, 1.2],\n",
    "    'reg_alpha': [0, 0.5, 1, 1.5],\n",
    "    'min_child_weight': [1, 3, 5, 7, 9],\n",
    "    'early_stopping_rounds': [10, 20, 30]\n",
    "}"
   ]
  },
  {
   "cell_type": "code",
   "execution_count": 42,
   "id": "8e8c3782-2ee0-4705-8366-a5df76549e7b",
   "metadata": {
    "tags": []
   },
   "outputs": [],
   "source": [
    "model = XGBClassifier(tree_method='gpu_hist', gpu_id=0, predictor='gpu_predictor', enable_categorical=True)"
   ]
  },
  {
   "cell_type": "code",
   "execution_count": 48,
   "id": "4e278d5e-8f60-4fbb-b3c6-5d098be2bbe8",
   "metadata": {
    "tags": []
   },
   "outputs": [],
   "source": [
    "cv = StratifiedKFold(n_splits=N, shuffle=True, random_state=0)\n",
    "#grid = GridSearchCV(estimator=model, param_grid=param_grid, cv=cv, n_jobs=-1)\n",
    "#grid.fit(X_train, y_train, eval_set=[(X_test, y_test)], verbose=0)"
   ]
  },
  {
   "cell_type": "code",
   "execution_count": 44,
   "id": "49a53c46-0b3b-4f23-b0e1-7619135d0549",
   "metadata": {
    "tags": []
   },
   "outputs": [],
   "source": [
    "#print('Best Hyperparameters: {}'.format(grid.best_params_))\n",
    "#print('Best Accuracy Score : {}'.format(grid.best_score_))\n",
    "\n",
    "#grid_pred = grid.predict(X_test)\n",
    "\n",
    "#print('Test score : {}'.format(1. - np.mean(np.abs((y_test - grid_pred).tolist()))))\n",
    "#print('F1: {}'.format(f1_score(y_test, grid_pred)))"
   ]
  },
  {
   "cell_type": "markdown",
   "id": "65504214-8bb9-4883-bc43-def78a363765",
   "metadata": {
    "tags": []
   },
   "source": [
    "```\n",
    "learning_rate = 0.05\n",
    "max_depth = 7\n",
    "n_estimators = 100\n",
    "colsample_bytree = 1.0\n",
    "reg_alpha = 0\n",
    "min_child_weight = 3\n",
    "early_stopping_rounds = 20\n",
    "```"
   ]
  },
  {
   "cell_type": "code",
   "execution_count": 45,
   "id": "801a3753-9eaf-4108-bdb4-0ac40d31e8ac",
   "metadata": {
    "tags": []
   },
   "outputs": [],
   "source": [
    "learning_rate = 0.05\n",
    "max_depth = 7\n",
    "n_estimators = 100\n",
    "colsample_bytree = 1.0\n",
    "reg_alpha = 0.\n",
    "min_child_weight = 3\n",
    "early_stopping_rounds = 20"
   ]
  },
  {
   "cell_type": "code",
   "execution_count": 49,
   "id": "96e4c3f4-caad-4616-b27a-898c5785e484",
   "metadata": {
    "tags": []
   },
   "outputs": [],
   "source": [
    "xgb_model = XGBClassifier(colsample_bytree= colsample_bytree,\n",
    "                          early_stopping_rounds=early_stopping_rounds, \n",
    "                          learning_rate= learning_rate,\n",
    "                          max_depth= max_depth,\n",
    "                          min_child_weight= min_child_weight,\n",
    "                          n_estimators= n_estimators,\n",
    "                          reg_alpha= reg_alpha,\n",
    "                          random_state= 0,\n",
    "                          objective= 'binary:logistic')"
   ]
  },
  {
   "cell_type": "code",
   "execution_count": 50,
   "id": "d1f9353a-bf46-435a-a138-4ece6701b567",
   "metadata": {
    "tags": []
   },
   "outputs": [
    {
     "name": "stdout",
     "output_type": "stream",
     "text": [
      "Training on fold 1\n",
      "Fold 1 train score: 0.9424157303370787\n",
      "Fold 1 val score: 0.8268156424581006\n",
      "\n",
      "Training on fold 2\n",
      "Fold 2 train score: 0.9480337078651685\n",
      "Fold 2 val score: 0.8324022346368715\n",
      "\n",
      "Training on fold 3\n",
      "Fold 3 train score: 0.9269662921348315\n",
      "Fold 3 val score: 0.776536312849162\n",
      "\n",
      "Training on fold 4\n",
      "Fold 4 train score: 0.9424157303370787\n",
      "Fold 4 val score: 0.8100558659217877\n",
      "\n",
      "Training on fold 5\n",
      "Fold 5 train score: 0.9480337078651685\n",
      "Fold 5 val score: 0.8212290502793296\n",
      "\n",
      "Average train score across 5 folds: 0.9415730337078653\n",
      "\n",
      "Average val score across 5 folds: 0.8134078212290504\n"
     ]
    }
   ],
   "source": [
    "X_test_data = test_data.drop(columns=['PassengerId'])\n",
    "\n",
    "test_probs_of_one = pd.DataFrame(np.zeros((len(test_data), N)), columns= ['Fold_{}'.format(i) for i in range(1, N + 1)])\n",
    "\n",
    "feature_importances = pd.DataFrame(np.zeros((X_train.shape[1], N)), columns=['Fold_{}'.format(i) for i in range(1, N + 1)], index=X_train.columns)\n",
    "\n",
    "fold_train_scores = []\n",
    "fold_val_scores = []\n",
    "\n",
    "for fold, (X_idx, y_idx) in enumerate(cv.split(X_train, y_train)):\n",
    "    if fold > 0:\n",
    "        print(\"\")\n",
    "    print(f\"Training on fold {fold + 1}\")\n",
    "\n",
    "    fold_X_train, fold_y_train = X_train.iloc[X_idx], y_train.iloc[X_idx]\n",
    "    fold_X_val, fold_y_val = X_train.iloc[y_idx], y_train.iloc[y_idx]\n",
    "\n",
    "    model.fit(fold_X_train, fold_y_train, eval_set=[(fold_X_val, fold_y_val)], verbose=0)\n",
    "    \n",
    "    feature_importances.iloc[:, fold] = model.feature_importances_\n",
    "    \n",
    "    \n",
    "    fold_train_score = model.score(X_train, y_train)\n",
    "    fold_train_scores.append(fold_train_score)\n",
    "    print(f\"Fold {fold + 1} train score: {fold_train_score}\")\n",
    "    \n",
    "    fold_val_score = model.score(X_test, y_test)\n",
    "    fold_val_scores.append(fold_val_score)\n",
    "    print(f\"Fold {fold + 1} val score: {fold_val_score}\")\n",
    "\n",
    "    test_probs_of_one.loc[:, 'Fold_{}'.format(fold+1)] = model.predict_proba(X_test_data)[:, 1]\n",
    "     \n",
    "avg_train_score = sum(fold_train_scores) / N\n",
    "avg_val_score = sum(fold_val_scores) / N\n",
    "    \n",
    "print()\n",
    "print(f\"Average train score across {N} folds: {avg_train_score}\")\n",
    "print()\n",
    "print(f\"Average val score across {N} folds: {avg_val_score}\")"
   ]
  },
  {
   "cell_type": "code",
   "execution_count": 52,
   "id": "d22f3048-b5fc-4420-87c5-34c65934dbfc",
   "metadata": {
    "tags": []
   },
   "outputs": [
    {
     "data": {
      "text/html": [
       "<div>\n",
       "<style scoped>\n",
       "    .dataframe tbody tr th:only-of-type {\n",
       "        vertical-align: middle;\n",
       "    }\n",
       "\n",
       "    .dataframe tbody tr th {\n",
       "        vertical-align: top;\n",
       "    }\n",
       "\n",
       "    .dataframe thead th {\n",
       "        text-align: right;\n",
       "    }\n",
       "</style>\n",
       "<table border=\"1\" class=\"dataframe\">\n",
       "  <thead>\n",
       "    <tr style=\"text-align: right;\">\n",
       "      <th></th>\n",
       "      <th>Fold_1</th>\n",
       "      <th>Fold_2</th>\n",
       "      <th>Fold_3</th>\n",
       "      <th>Fold_4</th>\n",
       "      <th>Fold_5</th>\n",
       "      <th>avg_prob_of_one</th>\n",
       "    </tr>\n",
       "  </thead>\n",
       "  <tbody>\n",
       "    <tr>\n",
       "      <th>0</th>\n",
       "      <td>0.009135</td>\n",
       "      <td>0.007167</td>\n",
       "      <td>0.007911</td>\n",
       "      <td>0.003818</td>\n",
       "      <td>0.006937</td>\n",
       "      <td>0.008392</td>\n",
       "    </tr>\n",
       "    <tr>\n",
       "      <th>1</th>\n",
       "      <td>0.080985</td>\n",
       "      <td>0.008092</td>\n",
       "      <td>0.071779</td>\n",
       "      <td>0.036005</td>\n",
       "      <td>0.011888</td>\n",
       "      <td>0.050100</td>\n",
       "    </tr>\n",
       "    <tr>\n",
       "      <th>2</th>\n",
       "      <td>0.395620</td>\n",
       "      <td>0.429909</td>\n",
       "      <td>0.227887</td>\n",
       "      <td>0.228103</td>\n",
       "      <td>0.006408</td>\n",
       "      <td>0.309102</td>\n",
       "    </tr>\n",
       "    <tr>\n",
       "      <th>3</th>\n",
       "      <td>0.593464</td>\n",
       "      <td>0.679233</td>\n",
       "      <td>0.004616</td>\n",
       "      <td>0.534792</td>\n",
       "      <td>0.559434</td>\n",
       "      <td>0.569169</td>\n",
       "    </tr>\n",
       "    <tr>\n",
       "      <th>4</th>\n",
       "      <td>0.981360</td>\n",
       "      <td>0.223236</td>\n",
       "      <td>0.736619</td>\n",
       "      <td>0.339299</td>\n",
       "      <td>0.948956</td>\n",
       "      <td>0.775073</td>\n",
       "    </tr>\n",
       "  </tbody>\n",
       "</table>\n",
       "</div>"
      ],
      "text/plain": [
       "     Fold_1    Fold_2    Fold_3    Fold_4    Fold_5  avg_prob_of_one\n",
       "0  0.009135  0.007167  0.007911  0.003818  0.006937         0.008392\n",
       "1  0.080985  0.008092  0.071779  0.036005  0.011888         0.050100\n",
       "2  0.395620  0.429909  0.227887  0.228103  0.006408         0.309102\n",
       "3  0.593464  0.679233  0.004616  0.534792  0.559434         0.569169\n",
       "4  0.981360  0.223236  0.736619  0.339299  0.948956         0.775073"
      ]
     },
     "metadata": {},
     "output_type": "display_data"
    }
   ],
   "source": [
    "test_probs_of_one['avg_prob_of_one']=(test_probs_of_one.sum(axis=1)/N)\n",
    "display(test_probs_of_one.head())"
   ]
  },
  {
   "cell_type": "code",
   "execution_count": 53,
   "id": "b14abd3e-5bad-4c9f-8a51-ee26466fe3aa",
   "metadata": {
    "tags": []
   },
   "outputs": [
    {
     "data": {
      "text/html": [
       "<div>\n",
       "<style scoped>\n",
       "    .dataframe tbody tr th:only-of-type {\n",
       "        vertical-align: middle;\n",
       "    }\n",
       "\n",
       "    .dataframe tbody tr th {\n",
       "        vertical-align: top;\n",
       "    }\n",
       "\n",
       "    .dataframe thead th {\n",
       "        text-align: right;\n",
       "    }\n",
       "</style>\n",
       "<table border=\"1\" class=\"dataframe\">\n",
       "  <thead>\n",
       "    <tr style=\"text-align: right;\">\n",
       "      <th></th>\n",
       "      <th>Fold_1</th>\n",
       "      <th>Fold_2</th>\n",
       "      <th>Fold_3</th>\n",
       "      <th>Fold_4</th>\n",
       "      <th>Fold_5</th>\n",
       "      <th>avg_prob_of_one</th>\n",
       "      <th>pred</th>\n",
       "    </tr>\n",
       "  </thead>\n",
       "  <tbody>\n",
       "    <tr>\n",
       "      <th>0</th>\n",
       "      <td>0.009135</td>\n",
       "      <td>0.007167</td>\n",
       "      <td>0.007911</td>\n",
       "      <td>0.003818</td>\n",
       "      <td>0.006937</td>\n",
       "      <td>0.008392</td>\n",
       "      <td>0</td>\n",
       "    </tr>\n",
       "    <tr>\n",
       "      <th>1</th>\n",
       "      <td>0.080985</td>\n",
       "      <td>0.008092</td>\n",
       "      <td>0.071779</td>\n",
       "      <td>0.036005</td>\n",
       "      <td>0.011888</td>\n",
       "      <td>0.050100</td>\n",
       "      <td>0</td>\n",
       "    </tr>\n",
       "    <tr>\n",
       "      <th>2</th>\n",
       "      <td>0.395620</td>\n",
       "      <td>0.429909</td>\n",
       "      <td>0.227887</td>\n",
       "      <td>0.228103</td>\n",
       "      <td>0.006408</td>\n",
       "      <td>0.309102</td>\n",
       "      <td>0</td>\n",
       "    </tr>\n",
       "    <tr>\n",
       "      <th>3</th>\n",
       "      <td>0.593464</td>\n",
       "      <td>0.679233</td>\n",
       "      <td>0.004616</td>\n",
       "      <td>0.534792</td>\n",
       "      <td>0.559434</td>\n",
       "      <td>0.569169</td>\n",
       "      <td>1</td>\n",
       "    </tr>\n",
       "    <tr>\n",
       "      <th>4</th>\n",
       "      <td>0.981360</td>\n",
       "      <td>0.223236</td>\n",
       "      <td>0.736619</td>\n",
       "      <td>0.339299</td>\n",
       "      <td>0.948956</td>\n",
       "      <td>0.775073</td>\n",
       "      <td>1</td>\n",
       "    </tr>\n",
       "  </tbody>\n",
       "</table>\n",
       "</div>"
      ],
      "text/plain": [
       "     Fold_1    Fold_2    Fold_3    Fold_4    Fold_5  avg_prob_of_one  pred\n",
       "0  0.009135  0.007167  0.007911  0.003818  0.006937         0.008392     0\n",
       "1  0.080985  0.008092  0.071779  0.036005  0.011888         0.050100     0\n",
       "2  0.395620  0.429909  0.227887  0.228103  0.006408         0.309102     0\n",
       "3  0.593464  0.679233  0.004616  0.534792  0.559434         0.569169     1\n",
       "4  0.981360  0.223236  0.736619  0.339299  0.948956         0.775073     1"
      ]
     },
     "execution_count": 53,
     "metadata": {},
     "output_type": "execute_result"
    }
   ],
   "source": [
    "threshold_prob = 0.5\n",
    "test_probs_of_one['pred']= test_probs_of_one['avg_prob_of_one'].apply(lambda x: 1 if x>= threshold_prob else 0)\n",
    "test_probs_of_one.head()"
   ]
  },
  {
   "cell_type": "markdown",
   "id": "a3fde6c8-50f6-4f52-aafd-ed6b4fed7bdf",
   "metadata": {},
   "source": [
    "## 6. Family_Name and Submission"
   ]
  },
  {
   "cell_type": "code",
   "execution_count": 58,
   "id": "bbfe6b15-0328-4d72-afaa-87e36abf40ab",
   "metadata": {
    "tags": []
   },
   "outputs": [],
   "source": [
    "train_family_data = pd.read_csv(\"titanic_data/train_preprocessed_JB.csv\")\n",
    "test_family_data = pd.read_csv(\"titanic_data/test_preprocessed_JB.csv\")\n",
    "\n",
    "l_family_name = pd.unique(test_family_data[(test_family_data['Parch'] > 0)]['Family_Name'])\n",
    "num_parch = 2\n",
    "\n",
    "for name in l_family_name:\n",
    "    r = train_family_data[(train_family_data['Parch'] > num_parch) & (train_family_data['Family_Name'] == name)]['Survived'].mean()\n",
    "    if r > 0.5:\n",
    "        test_family_data.loc[(test_family_data['Family_Name'] == name) & (test_family_data['Parch'] > num_parch) &\\\n",
    "                             ((test_family_data['Sex'] == 'female') | (test_family_data['Title_Master'] == 1)), ['Survived']] = 1\n",
    "    else:\n",
    "        test_family_data.loc[(test_family_data['Family_Name'] == name) & (test_family_data['Parch'] > num_parch) &\\\n",
    "                             ((test_family_data['Sex'] == 'female') | (test_family_data['Title_Master'] == 1)), ['Survived']] = 0\n",
    "\n",
    "test_family_data = pd.DataFrame(data=test_family_data[['PassengerId', 'Survived']])"
   ]
  },
  {
   "cell_type": "code",
   "execution_count": 59,
   "id": "febcc331-2466-4428-9d89-5e4dcac940d4",
   "metadata": {
    "tags": []
   },
   "outputs": [
    {
     "data": {
      "text/html": [
       "<div>\n",
       "<style scoped>\n",
       "    .dataframe tbody tr th:only-of-type {\n",
       "        vertical-align: middle;\n",
       "    }\n",
       "\n",
       "    .dataframe tbody tr th {\n",
       "        vertical-align: top;\n",
       "    }\n",
       "\n",
       "    .dataframe thead th {\n",
       "        text-align: right;\n",
       "    }\n",
       "</style>\n",
       "<table border=\"1\" class=\"dataframe\">\n",
       "  <thead>\n",
       "    <tr style=\"text-align: right;\">\n",
       "      <th></th>\n",
       "      <th>PassengerId</th>\n",
       "      <th>Survived</th>\n",
       "    </tr>\n",
       "  </thead>\n",
       "  <tbody>\n",
       "    <tr>\n",
       "      <th>0</th>\n",
       "      <td>892</td>\n",
       "      <td>0</td>\n",
       "    </tr>\n",
       "    <tr>\n",
       "      <th>1</th>\n",
       "      <td>893</td>\n",
       "      <td>0</td>\n",
       "    </tr>\n",
       "    <tr>\n",
       "      <th>2</th>\n",
       "      <td>894</td>\n",
       "      <td>0</td>\n",
       "    </tr>\n",
       "    <tr>\n",
       "      <th>3</th>\n",
       "      <td>895</td>\n",
       "      <td>1</td>\n",
       "    </tr>\n",
       "    <tr>\n",
       "      <th>4</th>\n",
       "      <td>896</td>\n",
       "      <td>1</td>\n",
       "    </tr>\n",
       "    <tr>\n",
       "      <th>5</th>\n",
       "      <td>897</td>\n",
       "      <td>0</td>\n",
       "    </tr>\n",
       "    <tr>\n",
       "      <th>6</th>\n",
       "      <td>898</td>\n",
       "      <td>0</td>\n",
       "    </tr>\n",
       "    <tr>\n",
       "      <th>7</th>\n",
       "      <td>899</td>\n",
       "      <td>0</td>\n",
       "    </tr>\n",
       "    <tr>\n",
       "      <th>8</th>\n",
       "      <td>900</td>\n",
       "      <td>1</td>\n",
       "    </tr>\n",
       "    <tr>\n",
       "      <th>9</th>\n",
       "      <td>901</td>\n",
       "      <td>0</td>\n",
       "    </tr>\n",
       "  </tbody>\n",
       "</table>\n",
       "</div>"
      ],
      "text/plain": [
       "   PassengerId  Survived\n",
       "0          892         0\n",
       "1          893         0\n",
       "2          894         0\n",
       "3          895         1\n",
       "4          896         1\n",
       "5          897         0\n",
       "6          898         0\n",
       "7          899         0\n",
       "8          900         1\n",
       "9          901         0"
      ]
     },
     "execution_count": 59,
     "metadata": {},
     "output_type": "execute_result"
    }
   ],
   "source": [
    "Submission_df = pd.DataFrame(columns=['PassengerId', 'Survived'])\n",
    "Submission_df['PassengerId'] = test_data['PassengerId']\n",
    "Submission_df['Survived'] = test_probs_of_one['pred'].values\n",
    "\n",
    "for pid in test_family_data[(~test_family_data['Survived'].isna())]['PassengerId'].unique():\n",
    "    Submission_df.loc[Submission_df['PassengerId'] == pid, ['Survived']] =\\\n",
    "    test_family_data.loc[test_family_data['PassengerId'] == pid, ['Survived']]\n",
    "\n",
    "Submission_df.to_csv('Result_XGB_01-08-2023_ver_3.csv', index=False)\n",
    "Submission_df.head(10)"
   ]
  },
  {
   "cell_type": "code",
   "execution_count": null,
   "id": "b3c539d7-93d7-4f4e-bbc3-5fb97aecf083",
   "metadata": {},
   "outputs": [],
   "source": []
  }
 ],
 "metadata": {
  "kernelspec": {
   "display_name": "Python 3 (ipykernel)",
   "language": "python",
   "name": "python3"
  },
  "language_info": {
   "codemirror_mode": {
    "name": "ipython",
    "version": 3
   },
   "file_extension": ".py",
   "mimetype": "text/x-python",
   "name": "python",
   "nbconvert_exporter": "python",
   "pygments_lexer": "ipython3",
   "version": "3.9.13"
  }
 },
 "nbformat": 4,
 "nbformat_minor": 5
}
